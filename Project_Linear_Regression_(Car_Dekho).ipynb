{
  "nbformat": 4,
  "nbformat_minor": 0,
  "metadata": {
    "colab": {
      "name": "Project- Linear Regression (Car Dekho).ipynb",
      "provenance": [],
      "collapsed_sections": [],
      "include_colab_link": true
    },
    "kernelspec": {
      "name": "python3",
      "display_name": "Python 3"
    }
  },
  "cells": [
    {
      "cell_type": "markdown",
      "metadata": {
        "id": "view-in-github",
        "colab_type": "text"
      },
      "source": [
        "<a href=\"https://colab.research.google.com/github/raushan9jnv/Car-Dekho-Price-Pridication/blob/main/Project_Linear_Regression_(Car_Dekho).ipynb\" target=\"_parent\"><img src=\"https://colab.research.google.com/assets/colab-badge.svg\" alt=\"Open In Colab\"/></a>"
      ]
    },
    {
      "cell_type": "markdown",
      "metadata": {
        "id": "Oq9OIkpjU3hr"
      },
      "source": [
        "\n",
        "## <b> CarDekho.com is India's leading car search venture that helps users buy cars that are right for them. Its website and app carry rich automotive content such as expert reviews, detailed specs and prices, comparisons as well as videos and pictures of all car brands and models available in India. The company has tie-ups with many auto manufacturers, more than 4000 car dealers and numerous financial institutions to facilitate the purchase of vehicles.\n",
        "\n",
        "## <b> CarDekho.com has launched many innovative features to ensure that users get an immersive experience of the car model before visiting a dealer showroom. These include a Feel The Car tool that gives 360-degree interior/exterior views with sounds of the car and explanations of features with videos; search and comparison by make, model, price, features; and live offers and promotions in all cities. The platform also has used car classifieds wherein users can upload their cars for sale, and find used cars for buying from individuals and used car dealers.\n",
        "\n",
        "## <b> Besides the above consumer product features, CarDekho.com provides a rich array of tech-enabled tools to OE manufacturers and car dealers. These include apps for dealer sales executives to manage leads, cloud services for tracking sales performance, call tracker solution, digital marketing support, virtual online showroom and outsourced lead management operational process for taking consumers from enquiry to sale.\n",
        "\n",
        "## <b> Our vision is to construct a complete ecosystem for consumers and car manufacturers, dealers and related businesses such that consumers have easy and complete access to not only buying and selling cars, but also manage their entire ownership experience, be it accessories, tyres, batteries, insurance or roadside assistance. </b>"
      ]
    },
    {
      "cell_type": "markdown",
      "metadata": {
        "id": "1gcS5qNzT95u"
      },
      "source": [
        "## <b>In this project, the dataset contains information about used cars listed on www.cardekho.com. This data can be used for a lot of purposes such as price prediction to exemplify the use of linear regression in Machine Learning.</b>\n",
        "\n",
        "## <b>The columns in the given dataset are as follows:</b>\n",
        "\n",
        "- ### name\n",
        "- ### year\n",
        "- ### selling_price\n",
        "- ### km_driven\n",
        "- ### fuel\n",
        "- ### seller_type\n",
        "- ### transmission\n",
        "- ### Owner"
      ]
    },
    {
      "cell_type": "markdown",
      "metadata": {
        "id": "kvk_FhylUuxj"
      },
      "source": [
        "## <b>Load up this dataset in the kernel and perform initial exploratory data analysis (EDA). You should also try creating new features based on the existing ones. The dependent variable is the <code>selling_price</code>. \n",
        "\n",
        "## <b> Your task is to build a linear regression model on this dataset (always split into train and test). Evaluate the fitted model on test data using different regression metrics. Also use your linear regression model from <code>statsmodels.api</code> to run a similar regression and obtain parameter inferences for each of the model variables. Next, you need to try if regularizing your model helps you perform well on the test dataset. For this, use <code> Ridge</code> and <code>Lasso</code> regressions on the dataset and check for different values of the tuning parameter ($\\lambda$ or $\\alpha$ , do not confuse this $\\alpha$ with the learning rate.) For each of the above regressions, get the feature importances using the regression coefficients.\n",
        "\n",
        "## <b><u> Few things to keep in mind :</u>\n",
        "* ### You should take care of categorical variables (variables which take discrete categories or classes) and do one-hot encoding to be able to pass them into the model.\n",
        "* ### Try to include as many plots and charts you can. This adds for a great visual interpretation of your tasks/activities.\n",
        "* ### Write detailed explanation of your approaches in the notebook and once you have some results, try to provide explanations for these observed results. Remember our objective is not only to build a machine learning model but to be able to explain why, what and how of the entire modeling process."
      ]
    },
    {
      "cell_type": "code",
      "metadata": {
        "id": "p0gkUooyR6Ix"
      },
      "source": [
        "#importing the libraries\n",
        "import numpy as np\n",
        "from numpy import math\n",
        "import pandas as pd\n",
        "\n",
        "import matplotlib.pyplot as plt\n",
        "%matplotlib inline\n",
        "import seaborn as sns\n",
        "\n",
        "from sklearn.preprocessing import OrdinalEncoder"
      ],
      "execution_count": 195,
      "outputs": []
    },
    {
      "cell_type": "code",
      "metadata": {
        "colab": {
          "base_uri": "https://localhost:8080/"
        },
        "id": "AF1rHQyhUUU6",
        "outputId": "613eee1f-2259-452e-88c8-08ba98b11c56"
      },
      "source": [
        "from google.colab import drive\n",
        "drive.mount('/content/drive')"
      ],
      "execution_count": 196,
      "outputs": [
        {
          "output_type": "stream",
          "name": "stdout",
          "text": [
            "Drive already mounted at /content/drive; to attempt to forcibly remount, call drive.mount(\"/content/drive\", force_remount=True).\n"
          ]
        }
      ]
    },
    {
      "cell_type": "code",
      "metadata": {
        "id": "5hTmveTgUQq9"
      },
      "source": [
        "#path of file\n",
        "path= '/content/drive/MyDrive/Almabetter/Machine Learing/Self project-Car Dekho/CAR DETAILS FROM CAR DEKHO.csv'"
      ],
      "execution_count": 197,
      "outputs": []
    },
    {
      "cell_type": "code",
      "metadata": {
        "id": "t7VBEMm0UQs5"
      },
      "source": [
        "#importing the dataset\n",
        "df= pd.read_csv(path)"
      ],
      "execution_count": 198,
      "outputs": []
    },
    {
      "cell_type": "markdown",
      "metadata": {
        "id": "uOIzlV3zXRwY"
      },
      "source": [
        "### Data Insecption"
      ]
    },
    {
      "cell_type": "code",
      "metadata": {
        "colab": {
          "base_uri": "https://localhost:8080/",
          "height": 202
        },
        "id": "fG3CtV30UQ0H",
        "outputId": "311c22fc-f59a-4679-befe-592ea9f51b57"
      },
      "source": [
        "#First Look\n",
        "df.head()"
      ],
      "execution_count": 199,
      "outputs": [
        {
          "output_type": "execute_result",
          "data": {
            "text/html": [
              "<div>\n",
              "<style scoped>\n",
              "    .dataframe tbody tr th:only-of-type {\n",
              "        vertical-align: middle;\n",
              "    }\n",
              "\n",
              "    .dataframe tbody tr th {\n",
              "        vertical-align: top;\n",
              "    }\n",
              "\n",
              "    .dataframe thead th {\n",
              "        text-align: right;\n",
              "    }\n",
              "</style>\n",
              "<table border=\"1\" class=\"dataframe\">\n",
              "  <thead>\n",
              "    <tr style=\"text-align: right;\">\n",
              "      <th></th>\n",
              "      <th>name</th>\n",
              "      <th>year</th>\n",
              "      <th>selling_price</th>\n",
              "      <th>km_driven</th>\n",
              "      <th>fuel</th>\n",
              "      <th>seller_type</th>\n",
              "      <th>transmission</th>\n",
              "      <th>owner</th>\n",
              "    </tr>\n",
              "  </thead>\n",
              "  <tbody>\n",
              "    <tr>\n",
              "      <th>0</th>\n",
              "      <td>Maruti 800 AC</td>\n",
              "      <td>2007</td>\n",
              "      <td>60000</td>\n",
              "      <td>70000</td>\n",
              "      <td>Petrol</td>\n",
              "      <td>Individual</td>\n",
              "      <td>Manual</td>\n",
              "      <td>First Owner</td>\n",
              "    </tr>\n",
              "    <tr>\n",
              "      <th>1</th>\n",
              "      <td>Maruti Wagon R LXI Minor</td>\n",
              "      <td>2007</td>\n",
              "      <td>135000</td>\n",
              "      <td>50000</td>\n",
              "      <td>Petrol</td>\n",
              "      <td>Individual</td>\n",
              "      <td>Manual</td>\n",
              "      <td>First Owner</td>\n",
              "    </tr>\n",
              "    <tr>\n",
              "      <th>2</th>\n",
              "      <td>Hyundai Verna 1.6 SX</td>\n",
              "      <td>2012</td>\n",
              "      <td>600000</td>\n",
              "      <td>100000</td>\n",
              "      <td>Diesel</td>\n",
              "      <td>Individual</td>\n",
              "      <td>Manual</td>\n",
              "      <td>First Owner</td>\n",
              "    </tr>\n",
              "    <tr>\n",
              "      <th>3</th>\n",
              "      <td>Datsun RediGO T Option</td>\n",
              "      <td>2017</td>\n",
              "      <td>250000</td>\n",
              "      <td>46000</td>\n",
              "      <td>Petrol</td>\n",
              "      <td>Individual</td>\n",
              "      <td>Manual</td>\n",
              "      <td>First Owner</td>\n",
              "    </tr>\n",
              "    <tr>\n",
              "      <th>4</th>\n",
              "      <td>Honda Amaze VX i-DTEC</td>\n",
              "      <td>2014</td>\n",
              "      <td>450000</td>\n",
              "      <td>141000</td>\n",
              "      <td>Diesel</td>\n",
              "      <td>Individual</td>\n",
              "      <td>Manual</td>\n",
              "      <td>Second Owner</td>\n",
              "    </tr>\n",
              "  </tbody>\n",
              "</table>\n",
              "</div>"
            ],
            "text/plain": [
              "                       name  year  ...  transmission         owner\n",
              "0             Maruti 800 AC  2007  ...        Manual   First Owner\n",
              "1  Maruti Wagon R LXI Minor  2007  ...        Manual   First Owner\n",
              "2      Hyundai Verna 1.6 SX  2012  ...        Manual   First Owner\n",
              "3    Datsun RediGO T Option  2017  ...        Manual   First Owner\n",
              "4     Honda Amaze VX i-DTEC  2014  ...        Manual  Second Owner\n",
              "\n",
              "[5 rows x 8 columns]"
            ]
          },
          "metadata": {},
          "execution_count": 199
        }
      ]
    },
    {
      "cell_type": "code",
      "metadata": {
        "colab": {
          "base_uri": "https://localhost:8080/"
        },
        "id": "QrWCBZ-0Vd_5",
        "outputId": "589c3c99-fd61-4d95-8c05-ea59280e8654"
      },
      "source": [
        "#dimensions of data\n",
        "df.shape"
      ],
      "execution_count": 200,
      "outputs": [
        {
          "output_type": "execute_result",
          "data": {
            "text/plain": [
              "(4340, 8)"
            ]
          },
          "metadata": {},
          "execution_count": 200
        }
      ]
    },
    {
      "cell_type": "code",
      "metadata": {
        "colab": {
          "base_uri": "https://localhost:8080/"
        },
        "id": "lSnnZWDTVQwN",
        "outputId": "f1d00f95-9d47-4b48-acb3-1f626024f72f"
      },
      "source": [
        "#look into data\n",
        "df.info()"
      ],
      "execution_count": 201,
      "outputs": [
        {
          "output_type": "stream",
          "name": "stdout",
          "text": [
            "<class 'pandas.core.frame.DataFrame'>\n",
            "RangeIndex: 4340 entries, 0 to 4339\n",
            "Data columns (total 8 columns):\n",
            " #   Column         Non-Null Count  Dtype \n",
            "---  ------         --------------  ----- \n",
            " 0   name           4340 non-null   object\n",
            " 1   year           4340 non-null   int64 \n",
            " 2   selling_price  4340 non-null   int64 \n",
            " 3   km_driven      4340 non-null   int64 \n",
            " 4   fuel           4340 non-null   object\n",
            " 5   seller_type    4340 non-null   object\n",
            " 6   transmission   4340 non-null   object\n",
            " 7   owner          4340 non-null   object\n",
            "dtypes: int64(3), object(5)\n",
            "memory usage: 271.4+ KB\n"
          ]
        }
      ]
    },
    {
      "cell_type": "code",
      "metadata": {
        "colab": {
          "base_uri": "https://localhost:8080/",
          "height": 294
        },
        "id": "XQv2WIOYVKUh",
        "outputId": "f5f199ee-2ec0-4dda-ff51-40a5021306dc"
      },
      "source": [
        "#sataticial summary\n",
        "df.describe()"
      ],
      "execution_count": 202,
      "outputs": [
        {
          "output_type": "execute_result",
          "data": {
            "text/html": [
              "<div>\n",
              "<style scoped>\n",
              "    .dataframe tbody tr th:only-of-type {\n",
              "        vertical-align: middle;\n",
              "    }\n",
              "\n",
              "    .dataframe tbody tr th {\n",
              "        vertical-align: top;\n",
              "    }\n",
              "\n",
              "    .dataframe thead th {\n",
              "        text-align: right;\n",
              "    }\n",
              "</style>\n",
              "<table border=\"1\" class=\"dataframe\">\n",
              "  <thead>\n",
              "    <tr style=\"text-align: right;\">\n",
              "      <th></th>\n",
              "      <th>year</th>\n",
              "      <th>selling_price</th>\n",
              "      <th>km_driven</th>\n",
              "    </tr>\n",
              "  </thead>\n",
              "  <tbody>\n",
              "    <tr>\n",
              "      <th>count</th>\n",
              "      <td>4340.000000</td>\n",
              "      <td>4.340000e+03</td>\n",
              "      <td>4340.000000</td>\n",
              "    </tr>\n",
              "    <tr>\n",
              "      <th>mean</th>\n",
              "      <td>2013.090783</td>\n",
              "      <td>5.041273e+05</td>\n",
              "      <td>66215.777419</td>\n",
              "    </tr>\n",
              "    <tr>\n",
              "      <th>std</th>\n",
              "      <td>4.215344</td>\n",
              "      <td>5.785487e+05</td>\n",
              "      <td>46644.102194</td>\n",
              "    </tr>\n",
              "    <tr>\n",
              "      <th>min</th>\n",
              "      <td>1992.000000</td>\n",
              "      <td>2.000000e+04</td>\n",
              "      <td>1.000000</td>\n",
              "    </tr>\n",
              "    <tr>\n",
              "      <th>25%</th>\n",
              "      <td>2011.000000</td>\n",
              "      <td>2.087498e+05</td>\n",
              "      <td>35000.000000</td>\n",
              "    </tr>\n",
              "    <tr>\n",
              "      <th>50%</th>\n",
              "      <td>2014.000000</td>\n",
              "      <td>3.500000e+05</td>\n",
              "      <td>60000.000000</td>\n",
              "    </tr>\n",
              "    <tr>\n",
              "      <th>75%</th>\n",
              "      <td>2016.000000</td>\n",
              "      <td>6.000000e+05</td>\n",
              "      <td>90000.000000</td>\n",
              "    </tr>\n",
              "    <tr>\n",
              "      <th>max</th>\n",
              "      <td>2020.000000</td>\n",
              "      <td>8.900000e+06</td>\n",
              "      <td>806599.000000</td>\n",
              "    </tr>\n",
              "  </tbody>\n",
              "</table>\n",
              "</div>"
            ],
            "text/plain": [
              "              year  selling_price      km_driven\n",
              "count  4340.000000   4.340000e+03    4340.000000\n",
              "mean   2013.090783   5.041273e+05   66215.777419\n",
              "std       4.215344   5.785487e+05   46644.102194\n",
              "min    1992.000000   2.000000e+04       1.000000\n",
              "25%    2011.000000   2.087498e+05   35000.000000\n",
              "50%    2014.000000   3.500000e+05   60000.000000\n",
              "75%    2016.000000   6.000000e+05   90000.000000\n",
              "max    2020.000000   8.900000e+06  806599.000000"
            ]
          },
          "metadata": {},
          "execution_count": 202
        }
      ]
    },
    {
      "cell_type": "code",
      "metadata": {
        "colab": {
          "base_uri": "https://localhost:8080/",
          "height": 385
        },
        "id": "lLihiRmAU32e",
        "outputId": "d0328a74-7d23-4bb0-927a-1c27e294d95f"
      },
      "source": [
        "#Include all summary\n",
        "df.describe(include='all')"
      ],
      "execution_count": 203,
      "outputs": [
        {
          "output_type": "execute_result",
          "data": {
            "text/html": [
              "<div>\n",
              "<style scoped>\n",
              "    .dataframe tbody tr th:only-of-type {\n",
              "        vertical-align: middle;\n",
              "    }\n",
              "\n",
              "    .dataframe tbody tr th {\n",
              "        vertical-align: top;\n",
              "    }\n",
              "\n",
              "    .dataframe thead th {\n",
              "        text-align: right;\n",
              "    }\n",
              "</style>\n",
              "<table border=\"1\" class=\"dataframe\">\n",
              "  <thead>\n",
              "    <tr style=\"text-align: right;\">\n",
              "      <th></th>\n",
              "      <th>name</th>\n",
              "      <th>year</th>\n",
              "      <th>selling_price</th>\n",
              "      <th>km_driven</th>\n",
              "      <th>fuel</th>\n",
              "      <th>seller_type</th>\n",
              "      <th>transmission</th>\n",
              "      <th>owner</th>\n",
              "    </tr>\n",
              "  </thead>\n",
              "  <tbody>\n",
              "    <tr>\n",
              "      <th>count</th>\n",
              "      <td>4340</td>\n",
              "      <td>4340.000000</td>\n",
              "      <td>4.340000e+03</td>\n",
              "      <td>4340.000000</td>\n",
              "      <td>4340</td>\n",
              "      <td>4340</td>\n",
              "      <td>4340</td>\n",
              "      <td>4340</td>\n",
              "    </tr>\n",
              "    <tr>\n",
              "      <th>unique</th>\n",
              "      <td>1491</td>\n",
              "      <td>NaN</td>\n",
              "      <td>NaN</td>\n",
              "      <td>NaN</td>\n",
              "      <td>5</td>\n",
              "      <td>3</td>\n",
              "      <td>2</td>\n",
              "      <td>5</td>\n",
              "    </tr>\n",
              "    <tr>\n",
              "      <th>top</th>\n",
              "      <td>Maruti Swift Dzire VDI</td>\n",
              "      <td>NaN</td>\n",
              "      <td>NaN</td>\n",
              "      <td>NaN</td>\n",
              "      <td>Diesel</td>\n",
              "      <td>Individual</td>\n",
              "      <td>Manual</td>\n",
              "      <td>First Owner</td>\n",
              "    </tr>\n",
              "    <tr>\n",
              "      <th>freq</th>\n",
              "      <td>69</td>\n",
              "      <td>NaN</td>\n",
              "      <td>NaN</td>\n",
              "      <td>NaN</td>\n",
              "      <td>2153</td>\n",
              "      <td>3244</td>\n",
              "      <td>3892</td>\n",
              "      <td>2832</td>\n",
              "    </tr>\n",
              "    <tr>\n",
              "      <th>mean</th>\n",
              "      <td>NaN</td>\n",
              "      <td>2013.090783</td>\n",
              "      <td>5.041273e+05</td>\n",
              "      <td>66215.777419</td>\n",
              "      <td>NaN</td>\n",
              "      <td>NaN</td>\n",
              "      <td>NaN</td>\n",
              "      <td>NaN</td>\n",
              "    </tr>\n",
              "    <tr>\n",
              "      <th>std</th>\n",
              "      <td>NaN</td>\n",
              "      <td>4.215344</td>\n",
              "      <td>5.785487e+05</td>\n",
              "      <td>46644.102194</td>\n",
              "      <td>NaN</td>\n",
              "      <td>NaN</td>\n",
              "      <td>NaN</td>\n",
              "      <td>NaN</td>\n",
              "    </tr>\n",
              "    <tr>\n",
              "      <th>min</th>\n",
              "      <td>NaN</td>\n",
              "      <td>1992.000000</td>\n",
              "      <td>2.000000e+04</td>\n",
              "      <td>1.000000</td>\n",
              "      <td>NaN</td>\n",
              "      <td>NaN</td>\n",
              "      <td>NaN</td>\n",
              "      <td>NaN</td>\n",
              "    </tr>\n",
              "    <tr>\n",
              "      <th>25%</th>\n",
              "      <td>NaN</td>\n",
              "      <td>2011.000000</td>\n",
              "      <td>2.087498e+05</td>\n",
              "      <td>35000.000000</td>\n",
              "      <td>NaN</td>\n",
              "      <td>NaN</td>\n",
              "      <td>NaN</td>\n",
              "      <td>NaN</td>\n",
              "    </tr>\n",
              "    <tr>\n",
              "      <th>50%</th>\n",
              "      <td>NaN</td>\n",
              "      <td>2014.000000</td>\n",
              "      <td>3.500000e+05</td>\n",
              "      <td>60000.000000</td>\n",
              "      <td>NaN</td>\n",
              "      <td>NaN</td>\n",
              "      <td>NaN</td>\n",
              "      <td>NaN</td>\n",
              "    </tr>\n",
              "    <tr>\n",
              "      <th>75%</th>\n",
              "      <td>NaN</td>\n",
              "      <td>2016.000000</td>\n",
              "      <td>6.000000e+05</td>\n",
              "      <td>90000.000000</td>\n",
              "      <td>NaN</td>\n",
              "      <td>NaN</td>\n",
              "      <td>NaN</td>\n",
              "      <td>NaN</td>\n",
              "    </tr>\n",
              "    <tr>\n",
              "      <th>max</th>\n",
              "      <td>NaN</td>\n",
              "      <td>2020.000000</td>\n",
              "      <td>8.900000e+06</td>\n",
              "      <td>806599.000000</td>\n",
              "      <td>NaN</td>\n",
              "      <td>NaN</td>\n",
              "      <td>NaN</td>\n",
              "      <td>NaN</td>\n",
              "    </tr>\n",
              "  </tbody>\n",
              "</table>\n",
              "</div>"
            ],
            "text/plain": [
              "                          name         year  ...  transmission        owner\n",
              "count                     4340  4340.000000  ...          4340         4340\n",
              "unique                    1491          NaN  ...             2            5\n",
              "top     Maruti Swift Dzire VDI          NaN  ...        Manual  First Owner\n",
              "freq                        69          NaN  ...          3892         2832\n",
              "mean                       NaN  2013.090783  ...           NaN          NaN\n",
              "std                        NaN     4.215344  ...           NaN          NaN\n",
              "min                        NaN  1992.000000  ...           NaN          NaN\n",
              "25%                        NaN  2011.000000  ...           NaN          NaN\n",
              "50%                        NaN  2014.000000  ...           NaN          NaN\n",
              "75%                        NaN  2016.000000  ...           NaN          NaN\n",
              "max                        NaN  2020.000000  ...           NaN          NaN\n",
              "\n",
              "[11 rows x 8 columns]"
            ]
          },
          "metadata": {},
          "execution_count": 203
        }
      ]
    },
    {
      "cell_type": "code",
      "metadata": {
        "colab": {
          "base_uri": "https://localhost:8080/"
        },
        "id": "51xcZZYOU34R",
        "outputId": "f7502543-062f-4306-9b6d-a94cb7c2d15a"
      },
      "source": [
        "#Check duplicated values\n",
        "df.duplicated().sum()"
      ],
      "execution_count": 204,
      "outputs": [
        {
          "output_type": "execute_result",
          "data": {
            "text/plain": [
              "763"
            ]
          },
          "metadata": {},
          "execution_count": 204
        }
      ]
    },
    {
      "cell_type": "code",
      "metadata": {
        "colab": {
          "base_uri": "https://localhost:8080/",
          "height": 414
        },
        "id": "acJPYzt6U37X",
        "outputId": "a66b497d-df68-45eb-f292-30bc22c010a1"
      },
      "source": [
        "#Duplicated Rows\n",
        "df[df.duplicated()]"
      ],
      "execution_count": 205,
      "outputs": [
        {
          "output_type": "execute_result",
          "data": {
            "text/html": [
              "<div>\n",
              "<style scoped>\n",
              "    .dataframe tbody tr th:only-of-type {\n",
              "        vertical-align: middle;\n",
              "    }\n",
              "\n",
              "    .dataframe tbody tr th {\n",
              "        vertical-align: top;\n",
              "    }\n",
              "\n",
              "    .dataframe thead th {\n",
              "        text-align: right;\n",
              "    }\n",
              "</style>\n",
              "<table border=\"1\" class=\"dataframe\">\n",
              "  <thead>\n",
              "    <tr style=\"text-align: right;\">\n",
              "      <th></th>\n",
              "      <th>name</th>\n",
              "      <th>year</th>\n",
              "      <th>selling_price</th>\n",
              "      <th>km_driven</th>\n",
              "      <th>fuel</th>\n",
              "      <th>seller_type</th>\n",
              "      <th>transmission</th>\n",
              "      <th>owner</th>\n",
              "    </tr>\n",
              "  </thead>\n",
              "  <tbody>\n",
              "    <tr>\n",
              "      <th>13</th>\n",
              "      <td>Maruti 800 AC</td>\n",
              "      <td>2007</td>\n",
              "      <td>60000</td>\n",
              "      <td>70000</td>\n",
              "      <td>Petrol</td>\n",
              "      <td>Individual</td>\n",
              "      <td>Manual</td>\n",
              "      <td>First Owner</td>\n",
              "    </tr>\n",
              "    <tr>\n",
              "      <th>14</th>\n",
              "      <td>Maruti Wagon R LXI Minor</td>\n",
              "      <td>2007</td>\n",
              "      <td>135000</td>\n",
              "      <td>50000</td>\n",
              "      <td>Petrol</td>\n",
              "      <td>Individual</td>\n",
              "      <td>Manual</td>\n",
              "      <td>First Owner</td>\n",
              "    </tr>\n",
              "    <tr>\n",
              "      <th>15</th>\n",
              "      <td>Hyundai Verna 1.6 SX</td>\n",
              "      <td>2012</td>\n",
              "      <td>600000</td>\n",
              "      <td>100000</td>\n",
              "      <td>Diesel</td>\n",
              "      <td>Individual</td>\n",
              "      <td>Manual</td>\n",
              "      <td>First Owner</td>\n",
              "    </tr>\n",
              "    <tr>\n",
              "      <th>16</th>\n",
              "      <td>Datsun RediGO T Option</td>\n",
              "      <td>2017</td>\n",
              "      <td>250000</td>\n",
              "      <td>46000</td>\n",
              "      <td>Petrol</td>\n",
              "      <td>Individual</td>\n",
              "      <td>Manual</td>\n",
              "      <td>First Owner</td>\n",
              "    </tr>\n",
              "    <tr>\n",
              "      <th>17</th>\n",
              "      <td>Honda Amaze VX i-DTEC</td>\n",
              "      <td>2014</td>\n",
              "      <td>450000</td>\n",
              "      <td>141000</td>\n",
              "      <td>Diesel</td>\n",
              "      <td>Individual</td>\n",
              "      <td>Manual</td>\n",
              "      <td>Second Owner</td>\n",
              "    </tr>\n",
              "    <tr>\n",
              "      <th>...</th>\n",
              "      <td>...</td>\n",
              "      <td>...</td>\n",
              "      <td>...</td>\n",
              "      <td>...</td>\n",
              "      <td>...</td>\n",
              "      <td>...</td>\n",
              "      <td>...</td>\n",
              "      <td>...</td>\n",
              "    </tr>\n",
              "    <tr>\n",
              "      <th>4307</th>\n",
              "      <td>Mahindra Xylo H4</td>\n",
              "      <td>2019</td>\n",
              "      <td>599000</td>\n",
              "      <td>15000</td>\n",
              "      <td>Diesel</td>\n",
              "      <td>Individual</td>\n",
              "      <td>Manual</td>\n",
              "      <td>Third Owner</td>\n",
              "    </tr>\n",
              "    <tr>\n",
              "      <th>4308</th>\n",
              "      <td>Maruti Alto 800 LXI</td>\n",
              "      <td>2018</td>\n",
              "      <td>200000</td>\n",
              "      <td>35000</td>\n",
              "      <td>Petrol</td>\n",
              "      <td>Individual</td>\n",
              "      <td>Manual</td>\n",
              "      <td>First Owner</td>\n",
              "    </tr>\n",
              "    <tr>\n",
              "      <th>4309</th>\n",
              "      <td>Datsun GO Plus T</td>\n",
              "      <td>2017</td>\n",
              "      <td>350000</td>\n",
              "      <td>10171</td>\n",
              "      <td>Petrol</td>\n",
              "      <td>Dealer</td>\n",
              "      <td>Manual</td>\n",
              "      <td>First Owner</td>\n",
              "    </tr>\n",
              "    <tr>\n",
              "      <th>4310</th>\n",
              "      <td>Renault Duster 110PS Diesel RxL</td>\n",
              "      <td>2015</td>\n",
              "      <td>465000</td>\n",
              "      <td>41123</td>\n",
              "      <td>Diesel</td>\n",
              "      <td>Dealer</td>\n",
              "      <td>Manual</td>\n",
              "      <td>First Owner</td>\n",
              "    </tr>\n",
              "    <tr>\n",
              "      <th>4311</th>\n",
              "      <td>Toyota Camry Hybrid 2.5</td>\n",
              "      <td>2017</td>\n",
              "      <td>1900000</td>\n",
              "      <td>20118</td>\n",
              "      <td>Petrol</td>\n",
              "      <td>Dealer</td>\n",
              "      <td>Automatic</td>\n",
              "      <td>First Owner</td>\n",
              "    </tr>\n",
              "  </tbody>\n",
              "</table>\n",
              "<p>763 rows × 8 columns</p>\n",
              "</div>"
            ],
            "text/plain": [
              "                                 name  year  ...  transmission         owner\n",
              "13                      Maruti 800 AC  2007  ...        Manual   First Owner\n",
              "14           Maruti Wagon R LXI Minor  2007  ...        Manual   First Owner\n",
              "15               Hyundai Verna 1.6 SX  2012  ...        Manual   First Owner\n",
              "16             Datsun RediGO T Option  2017  ...        Manual   First Owner\n",
              "17              Honda Amaze VX i-DTEC  2014  ...        Manual  Second Owner\n",
              "...                               ...   ...  ...           ...           ...\n",
              "4307                 Mahindra Xylo H4  2019  ...        Manual   Third Owner\n",
              "4308              Maruti Alto 800 LXI  2018  ...        Manual   First Owner\n",
              "4309                 Datsun GO Plus T  2017  ...        Manual   First Owner\n",
              "4310  Renault Duster 110PS Diesel RxL  2015  ...        Manual   First Owner\n",
              "4311          Toyota Camry Hybrid 2.5  2017  ...     Automatic   First Owner\n",
              "\n",
              "[763 rows x 8 columns]"
            ]
          },
          "metadata": {},
          "execution_count": 205
        }
      ]
    },
    {
      "cell_type": "code",
      "metadata": {
        "id": "hg12HsjRn2vH"
      },
      "source": [
        "#drop duplicated values\n",
        "df.drop_duplicates(inplace=True)"
      ],
      "execution_count": 206,
      "outputs": []
    },
    {
      "cell_type": "code",
      "metadata": {
        "colab": {
          "base_uri": "https://localhost:8080/"
        },
        "id": "rXEH49OjoB6l",
        "outputId": "d58300c7-b6b7-4a26-b926-db910cb3640f"
      },
      "source": [
        "#duplicate values removed successfully\n",
        "df.duplicated().sum()"
      ],
      "execution_count": 207,
      "outputs": [
        {
          "output_type": "execute_result",
          "data": {
            "text/plain": [
              "0"
            ]
          },
          "metadata": {},
          "execution_count": 207
        }
      ]
    },
    {
      "cell_type": "code",
      "metadata": {
        "colab": {
          "base_uri": "https://localhost:8080/"
        },
        "id": "8ouLNl49bl9C",
        "outputId": "d8cc85fe-797c-42c6-b59e-3f67aa4c4840"
      },
      "source": [
        "#no null values\n",
        "df.isnull().sum().sum()"
      ],
      "execution_count": 208,
      "outputs": [
        {
          "output_type": "execute_result",
          "data": {
            "text/plain": [
              "0"
            ]
          },
          "metadata": {},
          "execution_count": 208
        }
      ]
    },
    {
      "cell_type": "markdown",
      "metadata": {
        "id": "Rd-VlC0dcc6G"
      },
      "source": [
        "### Exploratory Data Analysis"
      ]
    },
    {
      "cell_type": "code",
      "metadata": {
        "colab": {
          "base_uri": "https://localhost:8080/",
          "height": 527
        },
        "id": "OVqDsAJCcjUS",
        "outputId": "5974dee6-fb8a-4283-b401-7b20f2a55c4f"
      },
      "source": [
        "#dependent variable selling_price\n",
        "plt.figure(figsize=(7,7))\n",
        "sns.distplot(df['selling_price'],color='r')"
      ],
      "execution_count": 209,
      "outputs": [
        {
          "output_type": "stream",
          "name": "stderr",
          "text": [
            "/usr/local/lib/python3.7/dist-packages/seaborn/distributions.py:2557: FutureWarning: `distplot` is a deprecated function and will be removed in a future version. Please adapt your code to use either `displot` (a figure-level function with similar flexibility) or `histplot` (an axes-level function for histograms).\n",
            "  warnings.warn(msg, FutureWarning)\n"
          ]
        },
        {
          "output_type": "execute_result",
          "data": {
            "text/plain": [
              "<matplotlib.axes._subplots.AxesSubplot at 0x7f19efe7a950>"
            ]
          },
          "metadata": {},
          "execution_count": 209
        },
        {
          "output_type": "display_data",
          "data": {
            "image/png": "[encoded data removed]",
            "text/plain": [
              "<Figure size 504x504 with 1 Axes>"
            ]
          },
          "metadata": {
            "needs_background": "light"
          }
        }
      ]
    },
    {
      "cell_type": "code",
      "metadata": {
        "colab": {
          "base_uri": "https://localhost:8080/",
          "height": 516
        },
        "id": "m9WLdtoYcjVy",
        "outputId": "52bb4b79-1264-4dd0-deed-1bb854d7acc2"
      },
      "source": [
        " #dependent variable selling_price log transformation\n",
        " plt.figure(figsize=(7,7))\n",
        " sns.distplot(np.log10(df['selling_price']),color='r')"
      ],
      "execution_count": 210,
      "outputs": [
        {
          "output_type": "stream",
          "name": "stderr",
          "text": [
            "/usr/local/lib/python3.7/dist-packages/seaborn/distributions.py:2557: FutureWarning: `distplot` is a deprecated function and will be removed in a future version. Please adapt your code to use either `displot` (a figure-level function with similar flexibility) or `histplot` (an axes-level function for histograms).\n",
            "  warnings.warn(msg, FutureWarning)\n"
          ]
        },
        {
          "output_type": "execute_result",
          "data": {
            "text/plain": [
              "<matplotlib.axes._subplots.AxesSubplot at 0x7f19efd2f190>"
            ]
          },
          "metadata": {},
          "execution_count": 210
        },
        {
          "output_type": "display_data",
          "data": {
            "image/png": "[encoded data removed]",
            "text/plain": [
              "<Figure size 504x504 with 1 Axes>"
            ]
          },
          "metadata": {
            "needs_background": "light"
          }
        }
      ]
    },
    {
      "cell_type": "code",
      "metadata": {
        "colab": {
          "base_uri": "https://localhost:8080/"
        },
        "id": "VNyxTLtwgWXE",
        "outputId": "66adea01-f32c-4e44-b217-c314c937f19c"
      },
      "source": [
        "#Extracting numeric features\n",
        "numeric_features = df.describe().columns\n",
        "numeric_features"
      ],
      "execution_count": 211,
      "outputs": [
        {
          "output_type": "execute_result",
          "data": {
            "text/plain": [
              "Index(['year', 'selling_price', 'km_driven'], dtype='object')"
            ]
          },
          "metadata": {},
          "execution_count": 211
        }
      ]
    },
    {
      "cell_type": "code",
      "metadata": {
        "colab": {
          "base_uri": "https://localhost:8080/",
          "height": 775
        },
        "id": "hkXEcfWipxCO",
        "outputId": "e201831b-6cff-498e-dc60-768230cf0530"
      },
      "source": [
        "#Plot a bar plot for each numerical feature\n",
        "\n",
        "for col in numeric_features[1:]:\n",
        "  fig = plt.figure(figsize=(9,6))\n",
        "  ax = fig.gca()\n",
        "  feature = df[col]\n",
        "  feature.hist(bins=50, ax = ax,color='r')\n",
        "  ax.axvline(feature.mean(),color='magenta',linestyle='dashed',linewidth=2)\n",
        "  ax.axvline(feature.median(),color='cyan',linestyle='dashed',linewidth=2)\n",
        "  ax.set_title(col)\n",
        "plt.show()\n"
      ],
      "execution_count": 212,
      "outputs": [
        {
          "output_type": "display_data",
          "data": {
            "image/png": "[encoded data removed]",
            "text/plain": [
              "<Figure size 648x432 with 1 Axes>"
            ]
          },
          "metadata": {
            "needs_background": "light"
          }
        },
        {
          "output_type": "display_data",
          "data": {
            "image/png": "[encoded data removed]",
            "text/plain": [
              "<Figure size 648x432 with 1 Axes>"
            ]
          },
          "metadata": {
            "needs_background": "light"
          }
        }
      ]
    },
    {
      "cell_type": "code",
      "metadata": {
        "colab": {
          "base_uri": "https://localhost:8080/",
          "height": 763
        },
        "id": "w5_XHuWChp4W",
        "outputId": "04addb0c-351f-41f2-d8d2-f188cb2fff9d"
      },
      "source": [
        "#Plot a bar plot for each numerical feature with log transformation\n",
        "\n",
        "for col in numeric_features[1:]:\n",
        "  fig = plt.figure(figsize=(9,6))\n",
        "  ax = fig.gca()\n",
        "  feature = np.log10(df[col])\n",
        "  feature.hist(bins=50, ax = ax,color='r')\n",
        "  ax.axvline(feature.mean(),color='magenta',linestyle='dashed',linewidth=2)\n",
        "  ax.axvline(feature.median(),color='cyan',linestyle='dashed',linewidth=2)\n",
        "  ax.set_title(col)\n",
        "plt.show()"
      ],
      "execution_count": 213,
      "outputs": [
        {
          "output_type": "display_data",
          "data": {
            "image/png": "[encoded data removed]",
            "text/plain": [
              "<Figure size 648x432 with 1 Axes>"
            ]
          },
          "metadata": {
            "needs_background": "light"
          }
        },
        {
          "output_type": "display_data",
          "data": {
            "image/png": "[encoded data removed]",
            "text/plain": [
              "<Figure size 648x432 with 1 Axes>"
            ]
          },
          "metadata": {
            "needs_background": "light"
          }
        }
      ]
    },
    {
      "cell_type": "code",
      "metadata": {
        "colab": {
          "base_uri": "https://localhost:8080/",
          "height": 1000
        },
        "id": "IPOL8y6s8KzI",
        "outputId": "0669bb5f-4b75-4476-bfa4-91d8738233f2"
      },
      "source": [
        "for col in numeric_features:\n",
        "    fig = plt.figure(figsize=(9, 6))\n",
        "    ax = fig.gca()\n",
        "    feature = df[col]\n",
        "    label = df['selling_price']\n",
        "    correlation = feature.corr(label)\n",
        "    plt.scatter(x=feature, y=label,color='g')\n",
        "    plt.xlabel(col)\n",
        "    plt.ylabel('Selling Price')\n",
        "    ax.set_title('Selling price vs ' + col + '- correlation: ' + str(correlation))\n",
        "    z = np.polyfit(df[col], df['selling_price'], 1)\n",
        "    y_hat = np.poly1d(z)(df[col])\n",
        "\n",
        "    plt.plot(df[col], y_hat, \"r--\", lw=1)\n",
        "\n",
        "plt.show()"
      ],
      "execution_count": 214,
      "outputs": [
        {
          "output_type": "display_data",
          "data": {
            "image/png": "[encoded data removed]",
            "text/plain": [
              "<Figure size 648x432 with 1 Axes>"
            ]
          },
          "metadata": {
            "needs_background": "light"
          }
        },
        {
          "output_type": "display_data",
          "data": {
            "image/png": "[encoded data removed]",
            "text/plain": [
              "<Figure size 648x432 with 1 Axes>"
            ]
          },
          "metadata": {
            "needs_background": "light"
          }
        },
        {
          "output_type": "display_data",
          "data": {
            "image/png": "[encoded data removed]",
            "text/plain": [
              "<Figure size 648x432 with 1 Axes>"
            ]
          },
          "metadata": {
            "needs_background": "light"
          }
        }
      ]
    },
    {
      "cell_type": "code",
      "metadata": {
        "colab": {
          "base_uri": "https://localhost:8080/",
          "height": 451
        },
        "id": "s1BK90HNBcez",
        "outputId": "afc1bd3f-35a8-480f-bd59-447106a4397f"
      },
      "source": [
        "#Correlation\n",
        "plt.figure(figsize=(7,7))\n",
        "correlation= df.corr()\n",
        "sns.heatmap(abs(correlation),annot=True,cmap='coolwarm')"
      ],
      "execution_count": 215,
      "outputs": [
        {
          "output_type": "execute_result",
          "data": {
            "text/plain": [
              "<matplotlib.axes._subplots.AxesSubplot at 0x7f19ef547390>"
            ]
          },
          "metadata": {},
          "execution_count": 215
        },
        {
          "output_type": "display_data",
          "data": {
            "image/png": "[encoded data removed]",
            "text/plain": [
              "<Figure size 504x504 with 2 Axes>"
            ]
          },
          "metadata": {
            "needs_background": "light"
          }
        }
      ]
    },
    {
      "cell_type": "code",
      "metadata": {
        "id": "aj2SmTwtH2Hj"
      },
      "source": [
        " "
      ],
      "execution_count": 215,
      "outputs": []
    },
    {
      "cell_type": "code",
      "metadata": {
        "id": "5wTz4XthH2J3"
      },
      "source": [
        "numeric_features=['year','selling_price','km_driven']"
      ],
      "execution_count": 216,
      "outputs": []
    },
    {
      "cell_type": "code",
      "metadata": {
        "colab": {
          "base_uri": "https://localhost:8080/"
        },
        "id": "KPVZmbBTH2L2",
        "outputId": "26bac145-5c02-402c-ef0d-6b21981956f6"
      },
      "source": [
        "df['name'].unique().tolist()"
      ],
      "execution_count": 217,
      "outputs": [
        {
          "output_type": "execute_result",
          "data": {
            "text/plain": [
              "['Maruti 800 AC',\n",
              " 'Maruti Wagon R LXI Minor',\n",
              " 'Hyundai Verna 1.6 SX',\n",
              " 'Datsun RediGO T Option',\n",
              " 'Honda Amaze VX i-DTEC',\n",
              " 'Maruti Alto LX BSIII',\n",
              " 'Hyundai Xcent 1.2 Kappa S',\n",
              " 'Tata Indigo Grand Petrol',\n",
              " 'Hyundai Creta 1.6 VTVT S',\n",
              " 'Maruti Celerio Green VXI',\n",
              " 'Chevrolet Sail 1.2 Base',\n",
              " 'Toyota Corolla Altis 1.8 VL CVT',\n",
              " 'Maruti Ciaz VXi Plus',\n",
              " 'Hyundai Venue SX Opt Diesel',\n",
              " 'Chevrolet Enjoy TCDi LTZ 7 Seater',\n",
              " 'Jaguar XF 2.2 Litre Luxury',\n",
              " 'Mercedes-Benz New C-Class 220 CDI AT',\n",
              " 'Maruti Vitara Brezza ZDi Plus AMT',\n",
              " 'Audi Q5 2.0 TDI',\n",
              " 'Honda City V MT',\n",
              " 'Tata Tigor 1.2 Revotron XT',\n",
              " 'Audi A6 2.0 TDI  Design Edition',\n",
              " 'Mercedes-Benz New C-Class C 220 CDI Avantgarde',\n",
              " 'Skoda Superb Ambition 2.0 TDI CR AT',\n",
              " 'Toyota Corolla Altis G AT',\n",
              " 'Toyota Innova 2.5 G (Diesel) 7 Seater',\n",
              " 'Jeep Compass 1.4 Sport Plus BSIV',\n",
              " 'Mercedes-Benz E-Class E 200 CGI Elegance',\n",
              " 'Hyundai i10 Magna 1.1L',\n",
              " 'BMW 3 Series 320d Sport Line',\n",
              " 'Audi Q7 35 TDI Quattro Premium',\n",
              " 'Hyundai Elantra CRDi S',\n",
              " 'Mahindra Scorpio 1.99 S10',\n",
              " 'Honda City i DTEC V',\n",
              " 'Maruti Wagon R VXI BS IV with ABS',\n",
              " 'Maruti Wagon R VXI BS IV',\n",
              " 'Mahindra Scorpio LX',\n",
              " 'Hyundai Santro Xing GLS',\n",
              " 'Hyundai Grand i10 1.2 Kappa Asta',\n",
              " 'Maruti Alto LXi',\n",
              " 'Maruti Swift Dzire VDI Optional',\n",
              " 'Maruti Eeco 5 Seater AC BSIV',\n",
              " 'Hyundai i20 Sportz 1.4 CRDi',\n",
              " 'Maruti Omni Maruti Omni MPI STD BSIII 5-STR W/ IMMOBILISER',\n",
              " 'Maruti Swift ZDi BSIV',\n",
              " 'Hyundai i20 2015-2017 Sportz Option 1.4 CRDi',\n",
              " 'Mahindra Jeep CL 500 MDI',\n",
              " 'Honda City i DTEC VX',\n",
              " 'Tata Indica DLS',\n",
              " 'Hyundai EON Magna Plus',\n",
              " 'Toyota Etios GD',\n",
              " 'Chevrolet Tavera Neo LS B3 - 7(C) seats BSIII',\n",
              " 'Toyota Corolla Altis Diesel D4DG',\n",
              " 'Mahindra Scorpio 1.99 S6 Plus',\n",
              " 'Tata Indigo Classic Dicor',\n",
              " 'Toyota Innova 2.5 V Diesel 8-seater',\n",
              " 'Tata Indica Vista Quadrajet LS',\n",
              " 'Maruti Swift 1.3 VXi',\n",
              " 'Ford EcoSport 1.5 Diesel Titanium BSIV',\n",
              " 'Maruti Ciaz 1.3 Delta',\n",
              " 'Honda Civic 1.8 V AT',\n",
              " 'Hyundai i10 Sportz 1.2',\n",
              " 'Skoda Rapid 1.5 TDI Elegance',\n",
              " 'Hyundai Getz GLS',\n",
              " 'Nissan Terrano XL',\n",
              " 'Hyundai Grand i10 CRDi Sportz',\n",
              " 'Hyundai Elite i20 Diesel Era',\n",
              " 'Honda Amaze S i-VTEC',\n",
              " 'Honda Brio S MT',\n",
              " 'Hyundai Creta 1.6 SX Option',\n",
              " 'Mercedes-Benz S-Class S 350d Connoisseurs Edition',\n",
              " 'Mahindra XUV500 W8 2WD',\n",
              " 'Renault Duster 85PS Diesel RxL Optional',\n",
              " 'Hyundai Santro Xing XO',\n",
              " 'Mahindra Bolero 2011-2019 SLE',\n",
              " 'Audi A6 2.0 TDI Premium Plus',\n",
              " 'Fiat Avventura MULTIJET Emotion',\n",
              " 'Audi A8 4.2 TDI',\n",
              " 'Datsun RediGO 1.0 S',\n",
              " 'Volkswagen Jetta 1.4 TSI Comfortline',\n",
              " 'Audi A4 2.0 TDI 177 Bhp Premium Plus',\n",
              " 'Mercedes-Benz E-Class Exclusive E 200 BSIV',\n",
              " 'BMW X1 sDrive 20d xLine',\n",
              " 'Volvo V40 D3 R Design',\n",
              " 'Maruti SX4 Zxi BSIII',\n",
              " 'BMW 7 Series 730Ld',\n",
              " 'Mahindra Bolero Power Plus SLX',\n",
              " 'Hyundai Sonata CRDi M/T',\n",
              " 'Nissan Micra Active XV Petrol',\n",
              " 'Mahindra Xylo D4',\n",
              " 'Hyundai Elite i20 Sportz Plus Dual Tone BSIV',\n",
              " 'Renault KWID RXT',\n",
              " 'Mahindra Xylo E4 BS III',\n",
              " 'Maruti SX4 ZXI MT BSIV',\n",
              " 'Hyundai Creta 1.4 CRDi S',\n",
              " 'Maruti Swift Dzire VDI',\n",
              " 'Hyundai Verna 1.6 VTVT AT S Option',\n",
              " 'Mahindra Scorpio LX BSIV',\n",
              " 'Maruti SX4 Vxi BSIII',\n",
              " 'Maruti Ertiga VDI',\n",
              " 'Chevrolet Beat Diesel',\n",
              " 'Maruti Zen LX',\n",
              " 'Maruti Baleno Delta 1.2',\n",
              " 'Maruti Swift Vdi BSIII',\n",
              " 'Tata Nano Lx BSIV',\n",
              " 'Toyota Innova 2.5 GX (Diesel) 8 Seater',\n",
              " 'Maruti Ertiga SHVS VDI',\n",
              " 'Hyundai Creta 1.6 CRDi SX',\n",
              " 'Honda Amaze S i-Vtech',\n",
              " 'Tata Indica Vista Aqua 1.4 TDI',\n",
              " 'Chevrolet Tavera Neo 2 LS B4 7 Str BSIII',\n",
              " 'Chevrolet Cruze LTZ',\n",
              " 'Ford Figo Aspire 1.2 Ti-VCT Titanium Plus',\n",
              " 'Ford EcoSport 1.5 Diesel Titanium Plus BSIV',\n",
              " 'Hyundai i10 Sportz 1.1L',\n",
              " 'Maruti 800 Std',\n",
              " 'Chevrolet Spark 1.0 LS',\n",
              " 'Hyundai EON Era Plus',\n",
              " 'Tata Indica Vista Aqua TDI BSIII',\n",
              " 'Hyundai Santro LP zipPlus',\n",
              " 'Tata Bolt Quadrajet XE',\n",
              " 'Maruti 800 AC BSIII',\n",
              " 'Hyundai i20 Magna 1.2',\n",
              " 'Hyundai i20 1.2 Asta',\n",
              " 'Maruti Ciaz VDi Plus',\n",
              " 'Hyundai i20 Asta 1.4 CRDi',\n",
              " 'Hyundai Santro LE',\n",
              " 'Maruti Vitara Brezza VDi',\n",
              " 'Hyundai Santro Xing XL eRLX Euro III',\n",
              " 'Hyundai Getz 1.3 GLS',\n",
              " 'Mahindra Quanto C8',\n",
              " 'Chevrolet Tavera Neo 3 LS 7 C BSIII',\n",
              " 'Maruti Wagon R DUO LPG',\n",
              " 'Maruti Wagon R LXI',\n",
              " 'Chevrolet Enjoy 1.3 TCDi LS 8',\n",
              " 'Honda City i VTEC SV',\n",
              " 'Jaguar XJ 5.0 L V8 Supercharged',\n",
              " 'Honda Brio E MT',\n",
              " 'Maruti Swift VVT ZXI',\n",
              " 'Tata Indigo CR4',\n",
              " 'Hyundai i10 Asta AT',\n",
              " 'Chevrolet Beat LT',\n",
              " 'Maruti Swift VDI BSIV',\n",
              " 'Renault Duster 110PS Diesel RxZ',\n",
              " 'Hyundai Santro Xing XG',\n",
              " 'Maruti Swift Dzire ZXI Plus',\n",
              " 'Maruti Alto K10 LXI CNG',\n",
              " 'Maruti 800 Std BSII',\n",
              " 'Tata Nano LX SE',\n",
              " 'Skoda Rapid 1.6 MPI Ambition With Alloy Wheel',\n",
              " 'Maruti Alto K10 VXI',\n",
              " 'Maruti Ciaz 1.4 Delta',\n",
              " 'Maruti Alto LX',\n",
              " 'Hyundai i20 Asta',\n",
              " 'Tata Nexon 1.2 Revotron XM',\n",
              " 'Maruti Zen D',\n",
              " 'Volkswagen Vento Celeste 1.5 TDI Highline AT',\n",
              " 'Maruti Eeco 7 Seater Standard BSIV',\n",
              " 'Honda City 1.5 EXI',\n",
              " 'Maruti SX4 Zxi with Leather BSIII',\n",
              " 'Ford Figo Diesel Titanium',\n",
              " 'Maruti Swift Dzire VDi',\n",
              " 'Mahindra Xylo E4',\n",
              " 'Maruti Esteem Vxi - BSIII',\n",
              " 'Hyundai i20 1.2 Sportz',\n",
              " 'Chevrolet Beat Diesel LT',\n",
              " 'Chevrolet Cruze LTZ AT',\n",
              " 'Nissan Micra XL',\n",
              " 'BMW 5 Series 520d Luxury Line',\n",
              " 'Hyundai EON Era Plus Option',\n",
              " 'Fiat Linea T Jet Emotion',\n",
              " 'Renault Scala RxL',\n",
              " 'Ford Figo Petrol Titanium',\n",
              " 'Maruti Ciaz ZDi SHVS',\n",
              " 'Skoda Rapid 1.5 TDI Ambition BSIV',\n",
              " 'Mahindra XUV500 W6 2WD',\n",
              " 'Mahindra XUV300 W8 Option',\n",
              " 'Maruti Ertiga SHVS ZDI',\n",
              " 'Nissan Terrano XE D',\n",
              " 'Maruti S-Cross Facelift',\n",
              " 'Hyundai i20 Magna 1.4 CRDi (Diesel)',\n",
              " 'Mercedes-Benz New C-Class C 220 CDI BE Avantgare',\n",
              " 'Volkswagen Ameo 1.5 TDI Highline',\n",
              " 'Maruti Omni LPG CARGO BSIII W IMMOBILISER',\n",
              " 'Hyundai Verna i (Petrol)',\n",
              " 'Mahindra Renault Logan 1.5 DLS',\n",
              " 'Chevrolet Optra Magnum 2.0 LS BSIII',\n",
              " 'Mahindra Scorpio S11 BSIV',\n",
              " 'Hyundai i20 Active 1.2 SX',\n",
              " 'Maruti SX4 Celebration Diesel',\n",
              " 'Hyundai Grand i10 Magna',\n",
              " 'Maruti Alto LXi BSIII',\n",
              " 'Hyundai i10 Era',\n",
              " 'Toyota Innova 2.5 V Diesel 7-seater',\n",
              " 'Honda Mobilio V i DTEC',\n",
              " 'Toyota Innova 2.5 G (Diesel) 7 Seater BS IV',\n",
              " 'Tata Indica V2 2001-2011 DLS BSIII',\n",
              " 'Tata Indica Vista TDI LS',\n",
              " 'Chevrolet Beat Diesel LS',\n",
              " 'Tata Zest Quadrajet 1.3 75PS XE',\n",
              " 'Skoda Fabia 1.2L Diesel Ambiente',\n",
              " 'Toyota Innova 2.5 VX (Diesel) 8 Seater',\n",
              " 'Hyundai Grand i10 1.2 CRDi Asta',\n",
              " 'Datsun GO Plus T Option Petrol',\n",
              " 'Maruti Omni MPI STD BSIV',\n",
              " 'Maruti Baleno Alpha 1.2',\n",
              " 'Ford Fiesta Classic 1.4 SXI Duratorq',\n",
              " 'Hyundai Elite i20 Asta Option BSIV',\n",
              " 'Hyundai Grand i10 CRDi Magna',\n",
              " 'Hyundai Santro Xing GL Plus',\n",
              " 'Tata Sumo GX TC 7 Str BSIII',\n",
              " 'Maruti Vitara Brezza LDi Option',\n",
              " 'Honda Jazz S',\n",
              " 'Hyundai i20 1.4 Sportz',\n",
              " 'Maruti Ertiga SHVS ZDI Plus',\n",
              " 'Tata Sumo SE Plus BSIII',\n",
              " 'Maruti Ertiga VXI',\n",
              " 'Hyundai i20 1.4 Magna ABS',\n",
              " 'Hyundai Getz GL',\n",
              " 'Maruti Wagon R LX BS IV',\n",
              " 'Hyundai i20 1.2 Spotz',\n",
              " 'Maruti Alto 800 VXI',\n",
              " 'Hyundai i20 Asta (o)',\n",
              " 'Hyundai Verna 1.6 SX CRDi (O)',\n",
              " 'Mahindra Xylo D2 BSIV',\n",
              " 'Mahindra Bolero SLX 2WD BSIII',\n",
              " 'Maruti Ertiga VXI ABS',\n",
              " 'Honda Brio 1.2 E MT',\n",
              " 'Toyota Etios Liva G',\n",
              " 'Maruti Alto 800 LXI',\n",
              " 'Maruti Swift Dzire 1.2 Vxi BSIV',\n",
              " 'Mahindra Scorpio VLS AT 2.2 mHAWK',\n",
              " 'Mahindra Bolero SLX',\n",
              " 'Mahindra XUV500 W11 Option AWD',\n",
              " 'Tata Tiago 1.2 Revotron XZ',\n",
              " 'Mahindra Marazzo M8 8Str',\n",
              " 'Renault Duster 110PS Diesel RxL',\n",
              " 'Maruti Wagon R VXI',\n",
              " 'Chevrolet Spark 1.0 LT',\n",
              " 'Maruti Baleno Alpha',\n",
              " 'Hyundai EON 1.0 Kappa Magna Plus',\n",
              " 'Ford Figo Aspire 1.2 Ti-VCT Trend',\n",
              " 'Ford Figo Aspire Facelift',\n",
              " 'Hyundai Verna 1.4 VTVT',\n",
              " 'Chevrolet Sail 1.2 LT ABS',\n",
              " 'Honda City i-DTEC SV',\n",
              " 'Mahindra Bolero Power Plus Plus AC BSIV PS',\n",
              " 'Hyundai Grand i10 1.2 Kappa Sportz Option',\n",
              " 'Maruti Baleno Sigma 1.2',\n",
              " 'Maruti A-Star Vxi',\n",
              " 'Datsun GO A',\n",
              " 'Skoda Yeti Ambition 4WD',\n",
              " 'Maruti Zen LXi BSII',\n",
              " 'Hyundai Verna CRDi 1.6 EX',\n",
              " 'Ford Aspire Titanium Diesel BSIV',\n",
              " 'BMW 3 Series 320d Sport',\n",
              " 'BMW X1 sDrive 20d Exclusive',\n",
              " 'Toyota Innova Crysta 2.4 VX MT',\n",
              " 'Chevrolet Tavera Neo 3 10 Seats BSIV',\n",
              " 'Mitsubishi Outlander 2.4',\n",
              " 'Maruti Baleno Alpha 1.3',\n",
              " 'Ford Figo Aspire 1.5 TDCi Titanium',\n",
              " 'Ford Endeavour Titanium 4X2',\n",
              " 'Mahindra Scorpio 2.6 Turbo 9 Str',\n",
              " 'Maruti Baleno Vxi',\n",
              " 'Tata Indica DLX',\n",
              " 'Tata Indica LSI',\n",
              " 'Toyota Etios Liva GD',\n",
              " 'Tata Nano STD',\n",
              " 'Hyundai Grand i10 Sportz',\n",
              " 'Mahindra Scorpio S7 140 BSIV',\n",
              " 'Volkswagen Polo Petrol Comfortline 1.2L',\n",
              " 'Hyundai Xcent 1.1 CRDi Base',\n",
              " 'Chevrolet Beat Diesel PS',\n",
              " 'Maruti Swift ZXi BSIV',\n",
              " 'Maruti Ritz VDi',\n",
              " 'Tata Indigo CS Emax CNG GLX',\n",
              " 'Maruti Eeco 5 STR With AC Plus HTR CNG',\n",
              " 'Maruti Estilo LXI',\n",
              " 'Maruti Swift VXI with ABS',\n",
              " 'Tata Zest Quadrajet 1.3 XM',\n",
              " 'Maruti Alto K10 VXI AGS Optional',\n",
              " 'Mahindra Scorpio SLE BSIV',\n",
              " 'Hyundai Santro Xing GLS CNG',\n",
              " 'Ford Figo Diesel Celebration Edition',\n",
              " 'Renault KWID RXT Optional',\n",
              " 'Renault KWID 1.0 RXT Optional',\n",
              " 'Skoda Rapid 1.5 TDI AT Style BSIV',\n",
              " 'Chevrolet Spark 1.0',\n",
              " 'Ford Fiesta 1.6 ZXi Duratec',\n",
              " 'Tata Manza Aura Quadrajet BS IV',\n",
              " 'Maruti Swift VVT VXI',\n",
              " 'Hyundai i20 Sportz Petrol',\n",
              " 'Maruti Zen Estilo VXI BSIV',\n",
              " 'Toyota Innova 2.5 G (Diesel) 8 Seater BS IV',\n",
              " 'Tata Tiago 1.2 Revotron XZA',\n",
              " 'Maruti Vitara Brezza ZDi',\n",
              " 'Maruti Swift VXI BSIII',\n",
              " 'Maruti Swift VXI BSIV',\n",
              " 'Hyundai i20 Active 1.2 S',\n",
              " 'Hyundai Santro GLS I - Euro I',\n",
              " 'Tata Safari Storme VX',\n",
              " 'Mahindra Scorpio REV 116',\n",
              " 'Datsun GO Plus A',\n",
              " 'Toyota Fortuner 4x4 MT',\n",
              " 'Ford Ecosport 1.5 DV5 MT Titanium',\n",
              " 'Mahindra XUV500 W11 AT BSIV',\n",
              " 'Mahindra Supro VX 8 Str',\n",
              " 'Ford Endeavour 2.5L 4X2 MT',\n",
              " 'Mahindra KUV 100 D75 K2',\n",
              " 'Maruti Swift Glam',\n",
              " 'Tata New Safari DICOR 2.2 EX 4x2',\n",
              " 'Honda Brio 1.2 VX MT',\n",
              " 'Chevrolet Sail Hatchback LS ABS',\n",
              " 'Tata Tiago NRG Petrol',\n",
              " 'Maruti Vitara Brezza ZDi Plus',\n",
              " 'Hyundai Santro Era',\n",
              " 'Honda City i-DTEC V',\n",
              " 'Hyundai Verna 1.6 CRDI',\n",
              " 'Hyundai EON D Lite Plus',\n",
              " 'Ford Endeavour 4x4 XLT',\n",
              " 'Volkswagen Jetta 2.0 TDI Trendline',\n",
              " 'Volkswagen Polo 1.5 TDI Highline',\n",
              " 'Hyundai i20 Asta 1.2',\n",
              " 'Renault Duster 85PS Diesel RxE',\n",
              " 'Maruti Omni E MPI STD BS IV',\n",
              " 'Honda Brio S Option AT',\n",
              " 'Honda Accord 2.4 MT',\n",
              " 'Ford Figo 1.2P Ambiente MT',\n",
              " 'Tata Nano Lx',\n",
              " 'Tata Indigo LS Dicor',\n",
              " 'Tata Indica Vista Terra 1.4 TDI',\n",
              " 'Maruti Zen VXI',\n",
              " 'Chevrolet Beat LS',\n",
              " 'Maruti Swift VDI',\n",
              " 'Maruti Wagon R AMT VXI',\n",
              " 'Mahindra TUV 300 T4 Plus',\n",
              " 'Maruti 800 AC BSII',\n",
              " 'Hyundai Santro Magna BSIV',\n",
              " 'Tata Zest Revotron 1.2 XT',\n",
              " 'Mahindra XUV500 W11 Option AT AWD',\n",
              " 'Volkswagen Polo Diesel Trendline 1.2L',\n",
              " 'Hyundai Verna CRDi',\n",
              " 'Tata Indica Vista Quadrajet LX',\n",
              " 'Renault Duster 85PS Diesel RxL',\n",
              " 'Hyundai i10 Era 1.1',\n",
              " 'Maruti Swift Dzire ZDI',\n",
              " 'Ford Figo Diesel ZXI',\n",
              " 'Maruti Wagon R LXI BSIII',\n",
              " 'Maruti Swift Ldi BSIV',\n",
              " 'Volkswagen Vento Diesel Highline',\n",
              " 'Datsun GO Plus T Option BSIV',\n",
              " 'Maruti Alto K10 VXI Airbag',\n",
              " 'Hyundai EON LPG Magna Plus',\n",
              " 'Mahindra Bolero DI DX 7 Seater',\n",
              " 'Maruti Ertiga BSIV ZXI',\n",
              " 'Honda BR-V i-VTEC S MT',\n",
              " 'Toyota Etios VD',\n",
              " 'Hyundai Santro Xing GLS Audio LPG',\n",
              " 'Ford Figo 1.2P Titanium MT',\n",
              " 'Fiat Avventura Urban Cross 1.3 Multijet Emotion',\n",
              " 'Ford EcoSport 1.5 TDCi Titanium BSIV',\n",
              " 'Maruti Swift Ldi BSIII',\n",
              " 'Ford Fiesta Classic 1.4 Duratorq CLXI',\n",
              " 'Ford Figo Titanium Diesel BSIV',\n",
              " 'Ford Ikon 1.3L Rocam Flair',\n",
              " 'Fiat Punto 1.3 Emotion',\n",
              " 'Honda WR-V i-DTEC V',\n",
              " 'Skoda Laura L n K 1.9 PD',\n",
              " 'Maruti Ritz LDi',\n",
              " 'Mahindra Xylo D2',\n",
              " 'Honda City i DTEC S',\n",
              " 'Mahindra Scorpio 1.99 S4',\n",
              " 'Tata Indigo Grand Dicor',\n",
              " 'Honda Amaze EX i-Dtech',\n",
              " 'Hyundai Creta 1.6 CRDi SX Plus',\n",
              " 'Toyota Etios GD SP',\n",
              " 'Maruti SX4 S Cross DDiS 320 Delta',\n",
              " 'Toyota Fortuner 2.8 4WD AT BSIV',\n",
              " 'Maruti Ciaz VDi Option SHVS',\n",
              " 'Mahindra Scorpio VLX 2WD AIRBAG SE BSIV',\n",
              " 'Hyundai Tucson 2.0 e-VGT 2WD MT',\n",
              " 'Jaguar XF 5.0 Litre V8 Petrol',\n",
              " 'Hyundai Creta 1.6 VTVT AT SX Plus',\n",
              " 'Hyundai Verna VTVT 1.6 AT SX Option',\n",
              " 'Mercedes-Benz GL-Class 350 CDI Blue Efficiency',\n",
              " 'Maruti Swift ZXI BSIV',\n",
              " 'Maruti S-Cross Zeta DDiS 200 SH',\n",
              " 'Hyundai Verna 1.6 VTVT SX',\n",
              " 'Volkswagen Polo GTI',\n",
              " 'Renault Pulse RxL',\n",
              " 'Maruti Celerio VXI AMT BSIV',\n",
              " 'Honda Brio V MT',\n",
              " 'Hyundai Creta 1.6 SX Automatic Diesel',\n",
              " 'Honda City i VTEC V',\n",
              " 'Toyota Innova Crysta 2.4 GX AT',\n",
              " 'BMW 3 Series 320d Luxury Line',\n",
              " 'Mercedes-Benz C-Class Progressive C 220d',\n",
              " 'Audi A4 3.0 TDI Quattro',\n",
              " 'BMW X5 xDrive 30d xLine',\n",
              " 'Maruti SX4 Vxi BSIV',\n",
              " 'Hyundai Grand i10 1.2 Kappa Magna AT',\n",
              " 'Hyundai Grand i10 Magna AT',\n",
              " 'Chevrolet Beat LT Option',\n",
              " 'Toyota Fortuner 4x2 AT',\n",
              " 'Hyundai i10 Magna',\n",
              " 'Hyundai Santro GS',\n",
              " 'Skoda Laura Ambiente 2.0 TDI CR MT',\n",
              " 'Hyundai i20 Sportz 1.2',\n",
              " 'Maruti Gypsy E MG410W ST',\n",
              " 'Tata Nexon 1.5 Revotorq XZ',\n",
              " 'Mahindra Verito 1.5 D4 BSIV',\n",
              " 'Chevrolet Tavera LS B3 7 Seats BSII',\n",
              " 'Chevrolet Optra Magnum 2.0 LS',\n",
              " 'Maruti Eeco 5 Seater Standard BSIV',\n",
              " 'Honda Civic 1.8 MT Sport',\n",
              " 'Tata Hexa XT 4X4',\n",
              " 'Tata Indica Vista Quadrajet VX',\n",
              " 'Mahindra Scorpio 2.6 CRDe SLE',\n",
              " 'Maruti Zen Estilo LXI BSIII',\n",
              " 'Maruti Swift Dzire AMT ZXI Plus BS IV',\n",
              " 'Honda Amaze S AT i-Vtech',\n",
              " 'Maruti Swift VXI',\n",
              " 'Mahindra Renault Logan 1.4 GLX Petrol',\n",
              " 'Hyundai i10 Magna LPG',\n",
              " 'Tata Venture EX',\n",
              " 'Chevrolet Captiva LT',\n",
              " 'Chevrolet Aveo U-VA 1.2 LS',\n",
              " 'Maruti Ciaz Zeta BSIV',\n",
              " 'Tata Hexa XM',\n",
              " 'Hyundai Santro Xing GL PLUS CNG',\n",
              " 'Mahindra Thar CRDe ABS',\n",
              " 'Maruti Alto K10 2010-2014 VXI',\n",
              " 'Maruti Alto K10 LXI',\n",
              " 'Honda City 1.5 V AT',\n",
              " 'Maruti Ritz LXI',\n",
              " 'Honda Jazz VX',\n",
              " 'Mahindra Scorpio SLE BSIII',\n",
              " 'Skoda Rapid 1.6 MPI AT Elegance Plus',\n",
              " 'Tata Nano LX',\n",
              " 'Maruti Zen Estilo 1.1 VXI BSIII',\n",
              " 'Maruti Wagon R LX Minor',\n",
              " 'Skoda Octavia Classic 1.9 TDI MT',\n",
              " 'Maruti Swift AMT VXI',\n",
              " 'Honda Amaze SX i-VTEC',\n",
              " 'Hyundai Grand i10 Nios Magna CRDi',\n",
              " 'Volkswagen Jetta 1.9 L TDI',\n",
              " 'Hyundai Xcent 1.1 CRDi SX Option',\n",
              " 'Hyundai Santro Xing GL Plus LPG',\n",
              " 'Hyundai Accent Executive',\n",
              " 'Maruti Celerio VXI AT',\n",
              " 'Hyundai Creta 1.6 CRDi AT SX Plus',\n",
              " 'Maruti Ertiga VXI CNG',\n",
              " 'Hyundai Verna 1.6 SX VTVT',\n",
              " 'Hyundai Grand i10 1.2 Kappa Sportz Dual Tone',\n",
              " 'Toyota Etios V',\n",
              " 'Volkswagen Vento Petrol Highline AT',\n",
              " 'Volkswagen Polo Diesel Highline 1.2L',\n",
              " 'Mahindra KUV 100 mFALCON D75 K8',\n",
              " 'Audi A4 New  2.0 TDI Multitronic',\n",
              " 'Volkswagen Polo Petrol Highline 1.2L',\n",
              " 'Skoda Rapid 1.6 MPI Active',\n",
              " 'Maruti Ertiga ZDI',\n",
              " 'Maruti Wagon R Stingray LXI',\n",
              " 'Skoda Superb 1.8 TSI',\n",
              " 'Tata Indigo LS',\n",
              " 'Land Rover Discovery Sport TD4 HSE 7S',\n",
              " 'Tata Sumo GX TC 8 Str',\n",
              " 'Hyundai i20 Magna',\n",
              " 'Hyundai Verna CRDi 1.6 SX Option',\n",
              " 'Tata Tiago XZA AMT',\n",
              " 'Toyota Innova Crysta 2.4 VX MT BSIV',\n",
              " 'Hyundai Grand i10 AT Asta',\n",
              " 'Maruti Ciaz VXi',\n",
              " 'Mahindra XUV500 W8 4WD',\n",
              " 'Renault Lodgy 85PS RxL',\n",
              " 'Mahindra Scorpio S6 Plus 7 Seater',\n",
              " 'Maruti Swift LDI BSIV',\n",
              " 'Hyundai i20 2015-2017 Magna 1.2',\n",
              " 'Maruti Wagon R LXI BS IV',\n",
              " 'Mahindra Bolero 2011-2019 SLX 2WD BSIII',\n",
              " 'Toyota Innova Crysta 2.8 ZX AT BSIV',\n",
              " 'Maruti Ciaz VDI SHVS',\n",
              " 'Tata Indica GLS BS IV',\n",
              " 'Honda City i DTec SV',\n",
              " 'Maruti Swift LXI',\n",
              " 'Maruti Zen LXI',\n",
              " 'Honda WR-V i-VTEC VX',\n",
              " 'Toyota Fortuner 2.8 2WD AT BSIV',\n",
              " 'Toyota Innova Crysta 2.4 ZX MT',\n",
              " 'Volkswagen Polo 1.5 TDI Trendline',\n",
              " 'Mahindra Verito Vibe 1.5 dCi D4',\n",
              " 'Volkswagen Vento Magnific 1.6 Highline',\n",
              " 'Maruti Swift Dzire LDI',\n",
              " 'Tata New Safari DICOR 2.2 GX 4x2',\n",
              " 'Maruti SX4 ZDI',\n",
              " 'Hyundai Verna 1.6 SX VTVT (O)',\n",
              " 'Fiat Grande Punto 1.3 Dynamic (Diesel)',\n",
              " 'Maruti Wagon R Stingray VXI',\n",
              " 'Toyota Etios Liva 1.4 VD',\n",
              " 'Hyundai Xcent 1.2 Kappa SX',\n",
              " 'Honda Amaze VX O iDTEC',\n",
              " 'Maruti Ciaz 1.4 AT Zeta',\n",
              " 'Mahindra Scorpio S4 4WD',\n",
              " 'Maruti Swift 1.3 VXI ABS',\n",
              " 'Ford Ecosport 1.0 Ecoboost Titanium Optional',\n",
              " 'Renault KWID Climber 1.0 AMT BSIV',\n",
              " 'Renault KWID RXL BSIV',\n",
              " 'Hyundai EON 1.0 Era Plus',\n",
              " 'Toyota Innova 2.5 G (Diesel) 8 Seater',\n",
              " 'Toyota Innova 2.5 G4 Diesel 8-seater',\n",
              " 'Mahindra KUV 100 G80 K2',\n",
              " 'Hyundai i20 1.4 Asta Option',\n",
              " 'Renault KWID RXL',\n",
              " 'Maruti Celerio ZXI Optional AMT BSIV',\n",
              " 'Fiat Palio D 1.9 EL PS',\n",
              " 'Fiat Linea Classic 1.3 Multijet',\n",
              " 'Maruti Alto 800 CNG LXI',\n",
              " 'Maruti Swift Dzire VXi',\n",
              " 'Hyundai Grand i10 1.2 Kappa Sportz BSIV',\n",
              " 'Honda Brio 1.2 S MT',\n",
              " 'Tata Zest Revotron 1.2T XE',\n",
              " 'Hyundai Creta 1.4 CRDi Base',\n",
              " 'Mercedes-Benz M-Class ML 350 CDI',\n",
              " 'Toyota Innova Crysta 2.4 GX MT 8S BSIV',\n",
              " 'Tata New Safari DICOR 2.2 EX 4x4',\n",
              " 'Mahindra Marazzo M4',\n",
              " 'Toyota Etios Cross 1.2L G',\n",
              " 'Mahindra KUV 100 mFALCON D75 K8 AW',\n",
              " 'Maruti Swift Dzire VXI',\n",
              " 'Hyundai i20 Asta 1.4 CRDi (Diesel)',\n",
              " 'Toyota Innova 2.0 GX 8 STR BSIV',\n",
              " 'Tata Hexa XTA',\n",
              " 'Hyundai Verna 1.6 SX VTVT AT',\n",
              " 'Maruti Swift Dzire VXI 1.2 BS IV',\n",
              " 'Maruti SX4 ZDI Leather',\n",
              " 'Maruti Ignis 1.2 Alpha BSIV',\n",
              " 'Honda Mobilio V i VTEC',\n",
              " 'Hyundai Getz 1.3 GVS',\n",
              " 'Ford Fiesta Titanium 1.5 TDCi',\n",
              " 'Hyundai Accent GLE CNG',\n",
              " 'Tata Tigor 1.2 Revotron XM',\n",
              " 'Hyundai i10 Magna 1.1',\n",
              " 'Nissan Sunny Diesel XV',\n",
              " 'Tata Nano Std',\n",
              " 'Chevrolet Tavera LT L1 7 Seats BSIII',\n",
              " 'Mahindra Verito 1.5 D2 BSIV',\n",
              " 'Hyundai EON D Lite',\n",
              " 'Toyota Innova 2.5 GX (Diesel) 7 Seater',\n",
              " 'Nissan Terrano XV Premium 110 PS',\n",
              " 'Nissan Sunny XV D Premium Leather',\n",
              " 'Mahindra Bolero 2011-2019 SLX',\n",
              " 'Hyundai Santro Xing XG eRLX Euro III',\n",
              " 'Volkswagen Jetta 2.0L TDI Highline AT',\n",
              " 'Tata Indica Vista Quadrajet 90 VX',\n",
              " 'Honda City VX MT',\n",
              " 'Volkswagen Jetta 1.9 Highline TDI',\n",
              " 'Volkswagen Vento 1.5 TDI Highline Plus AT',\n",
              " 'Maruti Wagon R VXI AMT1.2BSIV',\n",
              " 'Hyundai Grand i10 Asta',\n",
              " 'Volkswagen Polo 1.0 MPI Trendline',\n",
              " 'Hyundai Creta 1.6 CRDi SX Option',\n",
              " 'Hyundai Grand i10 Asta Option',\n",
              " 'Maruti Swift DDiS LDI',\n",
              " 'Hyundai i10 Sportz 1.2 AT',\n",
              " 'Volkswagen Vento 1.5 TDI Comfortline',\n",
              " 'Skoda Rapid 1.5 TDI AT Ambition',\n",
              " 'Hyundai Getz GLE',\n",
              " 'Mahindra Scorpio M2DI',\n",
              " 'Ford Endeavour XLT TDCi 4X2',\n",
              " 'Audi Q3 35 TDI Quattro Technology',\n",
              " 'Audi A5 Sportback',\n",
              " 'Chevrolet Sail Hatchback 1.3 TCDi LT ABS',\n",
              " 'Hyundai Accent CRDi',\n",
              " 'BMW 7 Series Signature 730Ld',\n",
              " 'Toyota Camry 2.5 Hybrid',\n",
              " 'Mahindra XUV500 W5 BSIV',\n",
              " 'Mahindra XUV300 W8 Option Diesel BSIV',\n",
              " 'Mahindra Thar CRDe',\n",
              " 'Honda Mobilio E i DTEC',\n",
              " 'Maruti Ciaz ZXi Plus',\n",
              " 'Fiat Grande Punto EVO 1.3 Dynamic',\n",
              " 'Ford Endeavour Hurricane Limited Edition',\n",
              " 'Land Rover Discovery S 2.0 SD4',\n",
              " 'Hyundai i10 Era 1.1 iTech SE',\n",
              " 'Maruti Vitara Brezza VDi Option',\n",
              " 'Hyundai i20 Sportz Option 1.2',\n",
              " 'Ford Endeavour 3.0L 4X4 AT',\n",
              " 'Hyundai Santro LE zipPlus',\n",
              " 'Hyundai Creta 1.4 EX Diesel',\n",
              " 'Hyundai Verna CRDi 1.6 SX',\n",
              " 'Tata Indigo LX',\n",
              " 'Mitsubishi Pajero Sport 4X4',\n",
              " 'Ford Fiesta 1.5 TDCi Titanium',\n",
              " 'Honda City i-VTEC CVT ZX',\n",
              " 'BMW 3 Series GT Luxury Line',\n",
              " 'Maruti Baleno Alpha CVT',\n",
              " 'Hyundai i20 1.4 Magna Executive',\n",
              " 'Maruti Baleno Zeta',\n",
              " 'Honda City VTEC',\n",
              " 'Ford Endeavour 3.2 Titanium AT 4X4',\n",
              " 'Tata Xenon XT EX 4X2',\n",
              " 'Nissan Terrano XL Plus 85 PS',\n",
              " 'Ford Ecosport 1.5 DV5 MT Ambiente',\n",
              " 'Skoda Laura Elegance 1.9 TDI  AT',\n",
              " 'Maruti Alto 800 LXI Airbag',\n",
              " 'Mahindra Bolero SLX 2WD',\n",
              " 'Mahindra Jeep MM 540',\n",
              " 'Skoda Octavia Elegance 2.0 TDI AT',\n",
              " 'Honda Jazz 1.5 VX i DTEC',\n",
              " 'Honda City i-VTEC ZX',\n",
              " 'Maruti Vitara Brezza ZDi Plus AMT Dual Tone',\n",
              " 'Maruti Celerio LXI MT BSIV',\n",
              " 'Renault Captur 1.5 Diesel RXT',\n",
              " 'Audi A4 30 TFSI Technology',\n",
              " 'Honda Amaze VX Diesel BSIV',\n",
              " 'Toyota Corolla Altis 1.8 VL AT',\n",
              " 'Honda Amaze VX Petrol BSIV',\n",
              " 'Honda Amaze VX i-VTEC',\n",
              " 'Mahindra KUV 100 mFALCON G80 K2',\n",
              " 'Maruti Zen Estilo Sports',\n",
              " 'Maruti Ertiga ZDI Plus',\n",
              " 'Audi Q3 2.0 TDI Quattro Premium Plus',\n",
              " 'Tata Zest Revotron 1.2T XMS',\n",
              " 'Audi Q5 2.0 TFSI Quattro Premium Plus',\n",
              " 'Datsun GO T Petrol',\n",
              " 'Mahindra Jeep CJ 500 DI',\n",
              " 'Renault Pulse RxZ',\n",
              " 'Land Rover Discovery Sport SD4 HSE Luxury',\n",
              " 'Volkswagen Polo 2015-2019 1.2 MPI Highline',\n",
              " 'Honda City i-VTEC SV',\n",
              " 'Tata Sumo Gold EX',\n",
              " 'Tata Indica DLE',\n",
              " 'Honda City S',\n",
              " 'Mercedes-Benz New C-Class C 220 CDI Grand Edition',\n",
              " 'Toyota Innova 2.5 VX 8 STR',\n",
              " 'Mahindra Xylo D4 BSIV',\n",
              " 'Toyota Innova Crysta 2.5 VX BS IV',\n",
              " 'Hyundai Verna CRDi 1.6 AT SX Option',\n",
              " 'Mahindra Scorpio S2 7 Seater',\n",
              " 'Hyundai i10 Magna 1.2 iTech SE',\n",
              " 'Mahindra Bolero DI',\n",
              " 'Hyundai Santro Xing XS',\n",
              " 'Maruti Esteem VX',\n",
              " 'Honda Amaze S i-Dtech',\n",
              " 'Hyundai Santro Xing XG AT',\n",
              " 'Skoda Yeti Ambition 4X2',\n",
              " 'Maruti Wagon R LXI CNG',\n",
              " 'Hyundai Verna SX',\n",
              " 'Maruti SX4 Celebration Petrol',\n",
              " 'Hyundai i20 Active S Diesel',\n",
              " 'Honda Amaze V CVT Petrol BSIV',\n",
              " 'Maruti Ciaz ZXi',\n",
              " 'Hyundai i20 Active SX Petrol',\n",
              " 'Nissan Terrano XL 85 PS',\n",
              " 'Mahindra Bolero B6',\n",
              " 'Mahindra Scorpio SLE BS IV',\n",
              " 'Maruti Ertiga ZXI',\n",
              " 'Maruti Swift ZDI Plus',\n",
              " 'Maruti Wagon R VXI BSIII',\n",
              " 'Chevrolet Tavera Neo 2 LT L 9 Str',\n",
              " 'Tata Indica Vista Aura Plus 1.3 Quadrajet',\n",
              " 'Renault Duster 85PS Diesel RxL Plus',\n",
              " 'Maruti Swift Dzire Vdi BSIV',\n",
              " 'Volkswagen Polo Diesel Comfortline 1.2L',\n",
              " 'Maruti Gypsy King Hard Top',\n",
              " 'Tata Manza Club Class Quadrajet90 VX',\n",
              " 'Maruti Swift VXI Deca',\n",
              " 'Maruti Ignis 1.2 AMT Delta BSIV',\n",
              " 'Toyota Innova Crysta 2.4 VX MT 8S BSIV',\n",
              " 'Mahindra Bolero Power Plus LX',\n",
              " 'Maruti Swift 1.2 DLX',\n",
              " 'Mahindra KUV 100 mFALCON D75 K6',\n",
              " 'Tata Nano Cx BSIV',\n",
              " 'Mahindra TUV 300 T4',\n",
              " 'Tata Safari Storme VX Varicor 400',\n",
              " 'Maruti Baleno Delta Automatic',\n",
              " 'Hyundai i20 Active S Petrol',\n",
              " 'Tata Indica Vista Terra Quadrajet 1.3L',\n",
              " 'Nissan Sunny XL',\n",
              " 'Volkswagen Vento Diesel Style Limited Edition',\n",
              " 'Chevrolet Aveo 1.4 LS',\n",
              " 'Chevrolet Beat PS',\n",
              " 'Honda City E',\n",
              " 'Maruti Wagon R VXI Minor ABS',\n",
              " 'Maruti Omni BSIII 8-STR W/ IMMOBILISER',\n",
              " 'Mahindra Xylo H4 ABS',\n",
              " 'Hyundai Elantra CRDi (Leather Option)',\n",
              " 'Toyota Corolla Altis D-4D J',\n",
              " 'Hyundai i20 1.4 CRDi Era',\n",
              " 'Tata Indica Vista Aqua 1.3 Quadrajet',\n",
              " 'Hyundai Verna XXi (Petrol)',\n",
              " 'Maruti Wagon R LX',\n",
              " 'Hyundai Santro Xing XK (Non-AC)',\n",
              " 'Volkswagen Passat 1.8 TSI MT',\n",
              " 'Ford Figo Diesel LXI',\n",
              " 'Ford EcoSport 1.5 Ti VCT MT Trend BSIV',\n",
              " 'Toyota Corolla Executive (HE)',\n",
              " 'Ford Freestyle Titanium Diesel BSIV',\n",
              " 'Maruti Ignis 1.2 Zeta BSIV',\n",
              " 'Toyota Etios Liva 1.2 G',\n",
              " 'Toyota Corolla H6',\n",
              " 'Renault Duster RXL AWD',\n",
              " 'Volkswagen Polo 1.5 TDI Comfortline',\n",
              " 'Ford Figo Diesel EXI',\n",
              " 'Honda Jazz VX CVT',\n",
              " 'Maruti Swift Dzire Tour LDI',\n",
              " 'Maruti 800 Std MPFi',\n",
              " 'Hyundai Verna 1.6 CRDI SX Option',\n",
              " 'Mercedes-Benz E-Class E250 CDI Blue Efficiency',\n",
              " 'Toyota Etios 1.4 VXD',\n",
              " 'Mahindra Quanto C6',\n",
              " 'Volkswagen Vento 1.5 TDI Highline',\n",
              " 'Maruti Ciaz ZDi',\n",
              " 'Volkswagen Ameo 1.5 TDI Comfortline',\n",
              " 'Tata Nano CX SE',\n",
              " 'Tata Manza Aura Quadrajet',\n",
              " 'Maruti Omni E 8 Str STD',\n",
              " 'Chevrolet Optra 1.6 LS',\n",
              " 'Mahindra TUV 300 T10',\n",
              " 'Mahindra Alturas G4 4X2 AT BSIV',\n",
              " 'Maruti Zen Estilo LX BSIII',\n",
              " 'Tata Indica LXI',\n",
              " 'Maruti Wagon R VXI Optional',\n",
              " 'Tata Sumo Victa CX 7/9 Str BSII',\n",
              " 'Skoda Superb Elegance 2.0 TDI CR AT',\n",
              " 'Jeep Compass 2.0 Longitude Option BSIV',\n",
              " 'Tata Indica DL',\n",
              " 'Ford Fiesta 1.6 ZXi Leather',\n",
              " 'Mahindra Scorpio EX',\n",
              " 'Hyundai Santro Xing XL AT eRLX Euro III',\n",
              " 'Mahindra Thar DI 4X4 PS',\n",
              " 'Hyundai Grand i10 1.2 Kappa Magna BSIV',\n",
              " 'Ford Fiesta 1.4 Duratec ZXI',\n",
              " 'Hyundai i20 Asta Option 1.4 CRDi',\n",
              " 'Maruti Swift Dzire LXI',\n",
              " 'Maruti 800 EX',\n",
              " 'Renault KWID Climber 1.0 AMT',\n",
              " 'Mahindra Bolero Power Plus SLE',\n",
              " 'Hyundai Xcent 1.2 VTVT S',\n",
              " 'Maruti Wagon R LXI LPG BSIV',\n",
              " 'Nissan Micra Diesel XV Premium',\n",
              " 'Maruti Zen LXi - BS III',\n",
              " 'Honda City i DTEC SV',\n",
              " 'Toyota Innova 2.5 VX (Diesel) 7 Seater',\n",
              " 'Honda Civic 1.8 (E) MT',\n",
              " 'Maruti Zen Estilo 1.1 LXI BSIII',\n",
              " 'Honda City 1.5 V MT',\n",
              " 'Tata Manza ELAN Quadrajet BS IV',\n",
              " 'Mahindra Xylo E4 ABS BS IV',\n",
              " 'Honda WR-V i-DTEC VX',\n",
              " 'Nissan Terrano XL 110 PS',\n",
              " 'Honda Amaze S CVT Petrol',\n",
              " 'Maruti Esteem Lxi',\n",
              " 'Toyota Corolla Altis Diesel D4DGL',\n",
              " 'Tata Indica Vista Aura 1.2 Safire',\n",
              " 'Mahindra Bolero SLE',\n",
              " 'Hyundai Elite i20 Asta Option CVT BSIV',\n",
              " 'Hyundai Creta 1.4 E Plus',\n",
              " 'Honda Jazz 1.5 E i DTEC',\n",
              " 'Tata Aria Pure LX 4x2',\n",
              " 'Ford Freestyle Trend Petrol BSIV',\n",
              " 'Mahindra Jeep MM 775 XDB',\n",
              " 'Hyundai Grand i10 1.2 CRDi Magna',\n",
              " 'Maruti Zen Estilo LX BSIV',\n",
              " 'Maruti 800 DX',\n",
              " 'Honda City 1.5 GXI',\n",
              " 'Honda CR-V Diesel 4WD',\n",
              " 'Maruti Ertiga BSIV VXI AT',\n",
              " 'Volkswagen Polo 1.0 TSI Highline Plus',\n",
              " 'Audi A4 35 TDI Premium',\n",
              " 'Hyundai Xcent 1.1 CRDi SX',\n",
              " 'Mahindra Scorpio 2.6 SLX Turbo 7 Seater',\n",
              " 'Ford Ecosport 1.0 Ecoboost Titanium',\n",
              " 'Jaguar XF 3.0 Litre S Premium Luxury',\n",
              " 'Maruti Zen Estilo VXI BSIII',\n",
              " 'Toyota Innova 2.5 E 8 STR',\n",
              " 'Hyundai i20 1.4 CRDi Asta',\n",
              " 'Nissan Micra XL CVT',\n",
              " 'Mahindra Scorpio VLX AT 2WD BSIII',\n",
              " 'Toyota Corolla AE',\n",
              " 'Hyundai Grand i10 Nios Sportz',\n",
              " 'Chevrolet Tavera Neo 3 LT 9 Seats BSIII',\n",
              " 'Hyundai Grand i10 Nios AMT Magna',\n",
              " 'Hyundai Verna 1.6 VTVT S',\n",
              " 'Tata Manza Aqua Quadrajet BS IV',\n",
              " 'Maruti Wagon R LX BSIII',\n",
              " 'Toyota Etios Cross 1.4L GD',\n",
              " 'Renault KWID RXT BSIV',\n",
              " 'Daewoo Matiz SD',\n",
              " 'Tata Hexa XT',\n",
              " 'Honda Jazz V',\n",
              " 'Maruti A-Star Lxi',\n",
              " 'Audi A8 L 3.0 TDI quattro',\n",
              " 'Hyundai Elantra SX',\n",
              " 'Datsun redi-GO AMT 1.0 T Option',\n",
              " 'Tata Nano Cx BSIII',\n",
              " 'BMW X1 sDrive20d M Sport',\n",
              " 'Chevrolet Enjoy TCDi LT 7 Seater',\n",
              " 'Honda Amaze S Diesel',\n",
              " 'Mahindra KUV 100 D75 K6 Plus',\n",
              " 'Honda City i-VTEC CVT VX',\n",
              " 'Honda Brio VX',\n",
              " 'MG Hector Sharp Diesel MT BSIV',\n",
              " 'Audi A4 35 TDI Premium Plus',\n",
              " 'Renault Scala Diesel RxL',\n",
              " 'Skoda Laura Ambiente 1.9 PD',\n",
              " 'Ford Fiesta Diesel Style',\n",
              " 'Skoda Laura 1.9 TDI MT Ambiente',\n",
              " 'Toyota Innova 2.5 VX (Diesel) 7 Seater BS IV',\n",
              " 'Mercedes-Benz E-Class 220 CDI',\n",
              " 'Ford Figo Aspire 1.5 TDCi Trend',\n",
              " 'Tata Indigo GLX',\n",
              " 'Maruti Swift Dzire LDI Optional',\n",
              " 'Ford EcoSport 1.5 Diesel Ambiente BSIV',\n",
              " 'Skoda Rapid 1.6 TDI Elegance',\n",
              " 'Hyundai i20 1.4 CRDi Sportz',\n",
              " 'Chevrolet Aveo 1.4 LT BSIV',\n",
              " 'Mahindra Quanto C4',\n",
              " 'Honda Mobilio S i DTEC',\n",
              " 'Hyundai Santa Fe 4WD AT',\n",
              " 'Tata Manza Aura (ABS) Safire BS IV',\n",
              " 'Force One EX',\n",
              " 'Mahindra Xylo D2 BS IV',\n",
              " 'Hyundai Santro Magna AMT BSIV',\n",
              " 'Tata Indigo LS BSII',\n",
              " 'Hyundai Verna CRDi SX ABS',\n",
              " 'Tata New Safari DICOR 2.2 GX 4x2 BS IV',\n",
              " 'Tata Indica Vista Aura 1.3 Quadrajet',\n",
              " 'Mahindra Bolero Power Plus Plus Non AC BSIV PS',\n",
              " 'Mahindra Scorpio VLX 2WD AIRBAG BSIV',\n",
              " 'Toyota Innova 2.5 Z Diesel 7 Seater BS IV',\n",
              " 'Honda Brio 1.2 S Option MT',\n",
              " 'Hyundai Santro Sportz BSIV',\n",
              " 'Fiat Linea Dynamic',\n",
              " 'Maruti Alto 800 LX',\n",
              " 'Maruti SX4 S Cross DDiS 320 Zeta',\n",
              " 'Mahindra Jeep Classic',\n",
              " 'Mahindra Scorpio 2.6 Turbo 7 Str',\n",
              " 'Toyota Innova 2.5 GX (Diesel) 7 Seater BS IV',\n",
              " 'Ford Figo Petrol LXI',\n",
              " 'Maruti Swift ZXI ABS',\n",
              " 'Mahindra XUV500 W6 1.99 mHawk',\n",
              " 'Maruti Alto K10 LX',\n",
              " 'Maruti Wagon R VX',\n",
              " 'Tata Indica Vista Aqua 1.2 Safire BSIV',\n",
              " 'Honda Civic 1.8 S AT',\n",
              " 'Mahindra NuvoSport N8',\n",
              " 'Hyundai Verna Transform CRDi VGT SX ABS',\n",
              " 'Volkswagen Vento New Diesel Highline',\n",
              " 'Maruti S-Presso VXI Plus',\n",
              " 'Honda Civic 1.8 S MT',\n",
              " 'Toyota Etios Liva 1.2 VX',\n",
              " 'Toyota Yaris G',\n",
              " 'Maruti Swift LXI Option',\n",
              " 'Maruti Ciaz ZDi Plus',\n",
              " 'Maruti Ciaz 1.4 Alpha',\n",
              " 'Toyota Corolla Altis GL MT',\n",
              " 'Maruti Esteem Lxi - BSIII',\n",
              " 'Volkswagen Vento Diesel Comfortline',\n",
              " 'Maruti SX4 ZXI AT',\n",
              " 'Maruti Swift Dzire AMT ZXI',\n",
              " 'Mahindra TUV 300 T8 AMT',\n",
              " 'Ford Fusion 1.6 Duratec Petrol',\n",
              " 'Honda City i-VTEC VX',\n",
              " 'Maruti Esteem Vxi',\n",
              " 'Hyundai Verna 1.6 VTVT',\n",
              " 'Tata Sumo Victa EX 7/9 Str BSII',\n",
              " 'Chevrolet Sail Hatchback 1.2 LS',\n",
              " 'Mahindra Bolero Power Plus ZLX',\n",
              " 'Datsun RediGO S',\n",
              " 'Skoda Fabia 1.2 MPI Ambition Plus',\n",
              " 'Renault Fluence 1.5',\n",
              " 'Maruti Wagon R LXI DUO BS IV',\n",
              " 'Mahindra TUV 300 Plus P4',\n",
              " 'Volkswagen Jetta 2.0 TDI Comfortline',\n",
              " 'Maruti Swift LDI Optional',\n",
              " 'Maruti SX4 VDI',\n",
              " 'Chevrolet Aveo 1.4 CNG',\n",
              " 'Hyundai Elite i20 Magna Plus BSIV',\n",
              " 'Mahindra Thar 4X4',\n",
              " 'Hyundai EON Magna Optional',\n",
              " 'Maruti Omni 5 Str STD LPG',\n",
              " 'Maruti 800 DUO AC LPG',\n",
              " 'Toyota Innova Crysta 2.4 G MT BSIV',\n",
              " 'Hyundai Accent GLX',\n",
              " 'Maruti Swift VDI Optional',\n",
              " 'Hyundai Santro Xing XK eRLX EuroIII',\n",
              " 'Maruti Baleno Zeta 1.2',\n",
              " 'Ford Freestyle Titanium Diesel',\n",
              " 'Ford Figo Titanium',\n",
              " 'Ford Ecosport 1.5 Diesel Titanium',\n",
              " 'Ford Figo 1.5D Titanium Opt MT',\n",
              " 'Toyota Etios VX',\n",
              " 'Hyundai Accent GLS',\n",
              " 'Maruti Ignis 1.3 Delta',\n",
              " 'Tata Indigo CS LX (TDI) BS-III',\n",
              " 'Maruti Alto K10 VXI AGS',\n",
              " 'Nissan Evalia XV',\n",
              " 'Hyundai Grand i10 1.2 CRDi Sportz Option',\n",
              " 'Mahindra KUV 100 D75 K4 Plus 5Str',\n",
              " 'Hyundai Verna SX Diesel',\n",
              " 'Honda City Corporate Edition',\n",
              " 'Hyundai EON Era',\n",
              " 'Datsun RediGO 1.0 T Option',\n",
              " 'Maruti Alto LXI',\n",
              " 'Hyundai i10 Magna 1.2',\n",
              " 'Renault Captur 1.5 Diesel RXT Mono',\n",
              " 'Mahindra Xylo D2 Maxx',\n",
              " 'Ford Aspire Titanium BSIV',\n",
              " 'Ford EcoSport 1.5 Ti VCT MT Titanium BE BSIV',\n",
              " 'Ford Ecosport 1.5 Petrol Trend',\n",
              " 'Ford EcoSport 1.5 TDCi Titanium Plus BSIV',\n",
              " 'Ford Freestyle Titanium',\n",
              " 'Ford Ecosport Thunder Edition Diesel',\n",
              " 'Ford Freestyle Titanium Plus',\n",
              " 'Mahindra Scorpio S2 9 Seater',\n",
              " 'Mahindra Scorpio VLS 2.2 mHawk',\n",
              " 'Honda Accord VTi-L (MT)',\n",
              " 'Tata Indigo CS LE (TDI) BS-III',\n",
              " 'Volkswagen Ameo 1.5 TDI Highline Plus 16',\n",
              " 'Ford Ecosport 1.5 Petrol Titanium Plus',\n",
              " 'Mahindra XUV500 AT W10 AWD',\n",
              " 'Mahindra XUV500 W10 2WD',\n",
              " 'Maruti Swift Dzire AMT VDI',\n",
              " 'Tata New Safari 4X4',\n",
              " 'Hyundai Verna SX CRDi AT',\n",
              " 'Renault Koleos 2.0 Diesel',\n",
              " 'Maruti Wagon R LXI DUO BSIII',\n",
              " 'Ford Ikon 1.8 D',\n",
              " 'Mercedes-Benz New C-Class 200 CDI Classic',\n",
              " 'Maruti Ertiga SHVS LDI Option',\n",
              " 'Tata Manza Aura (ABS) Quadrajet BS IV',\n",
              " 'Maruti Wagon R VXi BSII',\n",
              " 'Ford Fiesta 1.5 TDCi Ambiente',\n",
              " 'Renault KWID 1.0',\n",
              " 'Mahindra Scorpio S10 7 Seater',\n",
              " 'Chevrolet Enjoy TCDi LS 8 Seater',\n",
              " 'Tata Indica Vista TDI LX',\n",
              " 'Fiat Grande Punto EVO 1.3 Active',\n",
              " 'Mitsubishi Pajero 2.8 SFX BSIV Dual Tone',\n",
              " 'Mahindra Scorpio 2.6 SLX CRDe',\n",
              " 'Maruti Swift VXI Optional',\n",
              " 'Mahindra Thar DI 4X2',\n",
              " 'Maruti Ritz VXi',\n",
              " 'Tata Nexon 1.2 Revotron XZ Plus Dual Tone',\n",
              " 'Toyota Innova 2.5 G1 BSIV',\n",
              " 'Maruti Vitara Brezza LDi',\n",
              " 'Hyundai Verna Transform CRDi VGT ABS',\n",
              " 'Ford Freestyle Titanium Plus Diesel',\n",
              " 'Ford Figo 1.5P Titanium AT',\n",
              " 'Ford Figo 1.5D Titanium MT',\n",
              " 'Skoda Rapid 1.5 TDI AT Ambition BSIV',\n",
              " 'Tata Manza Aura Safire',\n",
              " 'Maruti Swift Dzire ZXI',\n",
              " 'Mahindra Bolero SLE BSIII',\n",
              " 'Hyundai Verna VTVT 1.6 SX',\n",
              " 'Fiat Punto 1.2 Active',\n",
              " 'Maruti Alto LXi BSII',\n",
              " 'Honda City 1.5 EXI S',\n",
              " 'Honda Amaze E i-VTEC',\n",
              " 'Tata Safari Storme EX',\n",
              " 'Volkswagen Ameo 1.2 MPI Trendline',\n",
              " 'Hyundai Verna 1.6 Xi ABS',\n",
              " 'Chevrolet Aveo 1.6 LT',\n",
              " 'Mahindra Bolero DI DX 8 Seater',\n",
              " 'Hyundai Verna 1.4 EX',\n",
              " 'Ford Figo Petrol ZXI',\n",
              " 'Tata Harrier XZ BSIV',\n",
              " 'Mahindra KUV 100 mFALCON G80 K8 5str',\n",
              " 'Hyundai i10 Sportz',\n",
              " 'Maruti Ignis 1.2 Delta BSIV',\n",
              " 'Toyota Corolla Altis 1.8 J',\n",
              " 'Tata Manza Club Class Quadrajet90 LS',\n",
              " 'Maruti Wagon R VXI Minor',\n",
              " 'Hyundai Accent GLE',\n",
              " 'Toyota Innova 2.0 VX 7 Seater',\n",
              " 'Maruti Alto 800 CNG LXI Optional',\n",
              " 'Maruti Ritz LXi',\n",
              " 'Chevrolet Aveo 1.6 LT with ABS',\n",
              " 'Tata Altroz XZ',\n",
              " 'Volkswagen Polo SR Petrol 1.2L',\n",
              " 'Skoda Superb 1.8 TFSI MT',\n",
              " 'Tata Tiago 2019-2020 XE Diesel',\n",
              " 'Tata Tiago 1.05 Revotorq XE',\n",
              " 'Hyundai Santro LS zipPlus',\n",
              " 'Mahindra XUV500 AT W10 FWD',\n",
              " 'Mahindra Scorpio VLX 2WD BSIV',\n",
              " 'Mahindra Scorpio VLX 2.2 mHawk Airbag BSIV',\n",
              " 'Hyundai Verna CRDi ABS',\n",
              " 'Mercedes-Benz E-Class 230',\n",
              " 'Maruti Omni 8 Seater BSIV',\n",
              " 'Ford Fiesta 1.4 ZXi TDCi ABS',\n",
              " 'Tata New Safari Dicor EX 4X2 BS IV',\n",
              " 'Mahindra XUV500 W7',\n",
              " 'Maruti Baleno Delta 1.3',\n",
              " 'Tata Nano Twist XT',\n",
              " 'Maruti Wagon R AX',\n",
              " 'Mahindra Scorpio SLX 2.6 Turbo 8 Str',\n",
              " 'Tata Tiago 1.05 Revotorq XT Option',\n",
              " ...]"
            ]
          },
          "metadata": {},
          "execution_count": 217
        }
      ]
    },
    {
      "cell_type": "code",
      "metadata": {
        "id": "QZw3jsJVLnhi"
      },
      "source": [
        " #extract first name from string and assign into new column company\n",
        " df['company'] = df['name'].str.split(\" \",expand=True)[0]"
      ],
      "execution_count": 218,
      "outputs": []
    },
    {
      "cell_type": "code",
      "metadata": {
        "id": "nCc3C9nwN8oD"
      },
      "source": [
        "#convert first letter to uppercase\n",
        "df['company'] = df['company'].str.title()"
      ],
      "execution_count": 219,
      "outputs": []
    },
    {
      "cell_type": "code",
      "metadata": {
        "colab": {
          "base_uri": "https://localhost:8080/"
        },
        "id": "Fhp2TLuJNTRp",
        "outputId": "91a1c427-3f28-4980-bdc8-c64858585a06"
      },
      "source": [
        "#count of each value\n",
        "df['company'].value_counts()"
      ],
      "execution_count": 220,
      "outputs": [
        {
          "output_type": "execute_result",
          "data": {
            "text/plain": [
              "Maruti           1072\n",
              "Hyundai           637\n",
              "Mahindra          328\n",
              "Tata              308\n",
              "Ford              220\n",
              "Honda             216\n",
              "Toyota            170\n",
              "Chevrolet         151\n",
              "Renault           110\n",
              "Volkswagen         93\n",
              "Nissan             52\n",
              "Skoda              49\n",
              "Fiat               32\n",
              "Audi               31\n",
              "Datsun             29\n",
              "Bmw                25\n",
              "Mercedes-Benz      21\n",
              "Jaguar              5\n",
              "Land                5\n",
              "Mitsubishi          5\n",
              "Volvo               4\n",
              "Ambassador          3\n",
              "Jeep                3\n",
              "Mg                  2\n",
              "Opelcorsa           2\n",
              "Isuzu               1\n",
              "Force               1\n",
              "Kia                 1\n",
              "Daewoo              1\n",
              "Name: company, dtype: int64"
            ]
          },
          "metadata": {},
          "execution_count": 220
        }
      ]
    },
    {
      "cell_type": "code",
      "metadata": {
        "colab": {
          "base_uri": "https://localhost:8080/",
          "height": 202
        },
        "id": "KotTPTpHPB6M",
        "outputId": "397c46eb-1b3c-4110-d749-5009dfd8cd2d"
      },
      "source": [
        "df.head()"
      ],
      "execution_count": 221,
      "outputs": [
        {
          "output_type": "execute_result",
          "data": {
            "text/html": [
              "<div>\n",
              "<style scoped>\n",
              "    .dataframe tbody tr th:only-of-type {\n",
              "        vertical-align: middle;\n",
              "    }\n",
              "\n",
              "    .dataframe tbody tr th {\n",
              "        vertical-align: top;\n",
              "    }\n",
              "\n",
              "    .dataframe thead th {\n",
              "        text-align: right;\n",
              "    }\n",
              "</style>\n",
              "<table border=\"1\" class=\"dataframe\">\n",
              "  <thead>\n",
              "    <tr style=\"text-align: right;\">\n",
              "      <th></th>\n",
              "      <th>name</th>\n",
              "      <th>year</th>\n",
              "      <th>selling_price</th>\n",
              "      <th>km_driven</th>\n",
              "      <th>fuel</th>\n",
              "      <th>seller_type</th>\n",
              "      <th>transmission</th>\n",
              "      <th>owner</th>\n",
              "      <th>company</th>\n",
              "    </tr>\n",
              "  </thead>\n",
              "  <tbody>\n",
              "    <tr>\n",
              "      <th>0</th>\n",
              "      <td>Maruti 800 AC</td>\n",
              "      <td>2007</td>\n",
              "      <td>60000</td>\n",
              "      <td>70000</td>\n",
              "      <td>Petrol</td>\n",
              "      <td>Individual</td>\n",
              "      <td>Manual</td>\n",
              "      <td>First Owner</td>\n",
              "      <td>Maruti</td>\n",
              "    </tr>\n",
              "    <tr>\n",
              "      <th>1</th>\n",
              "      <td>Maruti Wagon R LXI Minor</td>\n",
              "      <td>2007</td>\n",
              "      <td>135000</td>\n",
              "      <td>50000</td>\n",
              "      <td>Petrol</td>\n",
              "      <td>Individual</td>\n",
              "      <td>Manual</td>\n",
              "      <td>First Owner</td>\n",
              "      <td>Maruti</td>\n",
              "    </tr>\n",
              "    <tr>\n",
              "      <th>2</th>\n",
              "      <td>Hyundai Verna 1.6 SX</td>\n",
              "      <td>2012</td>\n",
              "      <td>600000</td>\n",
              "      <td>100000</td>\n",
              "      <td>Diesel</td>\n",
              "      <td>Individual</td>\n",
              "      <td>Manual</td>\n",
              "      <td>First Owner</td>\n",
              "      <td>Hyundai</td>\n",
              "    </tr>\n",
              "    <tr>\n",
              "      <th>3</th>\n",
              "      <td>Datsun RediGO T Option</td>\n",
              "      <td>2017</td>\n",
              "      <td>250000</td>\n",
              "      <td>46000</td>\n",
              "      <td>Petrol</td>\n",
              "      <td>Individual</td>\n",
              "      <td>Manual</td>\n",
              "      <td>First Owner</td>\n",
              "      <td>Datsun</td>\n",
              "    </tr>\n",
              "    <tr>\n",
              "      <th>4</th>\n",
              "      <td>Honda Amaze VX i-DTEC</td>\n",
              "      <td>2014</td>\n",
              "      <td>450000</td>\n",
              "      <td>141000</td>\n",
              "      <td>Diesel</td>\n",
              "      <td>Individual</td>\n",
              "      <td>Manual</td>\n",
              "      <td>Second Owner</td>\n",
              "      <td>Honda</td>\n",
              "    </tr>\n",
              "  </tbody>\n",
              "</table>\n",
              "</div>"
            ],
            "text/plain": [
              "                       name  year  ...         owner  company\n",
              "0             Maruti 800 AC  2007  ...   First Owner   Maruti\n",
              "1  Maruti Wagon R LXI Minor  2007  ...   First Owner   Maruti\n",
              "2      Hyundai Verna 1.6 SX  2012  ...   First Owner  Hyundai\n",
              "3    Datsun RediGO T Option  2017  ...   First Owner   Datsun\n",
              "4     Honda Amaze VX i-DTEC  2014  ...  Second Owner    Honda\n",
              "\n",
              "[5 rows x 9 columns]"
            ]
          },
          "metadata": {},
          "execution_count": 221
        }
      ]
    },
    {
      "cell_type": "code",
      "metadata": {
        "colab": {
          "base_uri": "https://localhost:8080/"
        },
        "id": "F3KZShrSfenF",
        "outputId": "7e76ddca-3a74-4465-f4e1-e4b53e91efb6"
      },
      "source": [
        "#extracting categorical feature\n",
        "categorical_features = df.describe(include=['object','category']).columns\n",
        "categorical_features"
      ],
      "execution_count": 222,
      "outputs": [
        {
          "output_type": "execute_result",
          "data": {
            "text/plain": [
              "Index(['name', 'fuel', 'seller_type', 'transmission', 'owner', 'company'], dtype='object')"
            ]
          },
          "metadata": {},
          "execution_count": 222
        }
      ]
    },
    {
      "cell_type": "code",
      "metadata": {
        "colab": {
          "base_uri": "https://localhost:8080/",
          "height": 1000
        },
        "id": "TZnewQEfgiiB",
        "outputId": "7fd2af82-1d9b-4483-aaca-bfefa9b8ab83"
      },
      "source": [
        "for col in categorical_features:\n",
        "    counts = df[col].value_counts().sort_index()\n",
        "    fig = plt.figure(figsize=(9, 6))\n",
        "    ax = fig.gca()\n",
        "    counts.plot.bar(ax = ax, color='steelblue')\n",
        "    ax.set_title(col + ' counts')\n",
        "    ax.set_xlabel(col) \n",
        "    ax.set_ylabel(\"Frequency\")\n",
        "plt.show()"
      ],
      "execution_count": 223,
      "outputs": [
        {
          "output_type": "display_data",
          "data": {
            "image/png": "[encoded data removed]",
            "text/plain": [
              "<Figure size 648x432 with 1 Axes>"
            ]
          },
          "metadata": {
            "needs_background": "light"
          }
        },
        {
          "output_type": "display_data",
          "data": {
            "image/png": "[encoded data removed]",
            "text/plain": [
              "<Figure size 648x432 with 1 Axes>"
            ]
          },
          "metadata": {
            "needs_background": "light"
          }
        },
        {
          "output_type": "display_data",
          "data": {
            "image/png": "[encoded data removed]",
            "text/plain": [
              "<Figure size 648x432 with 1 Axes>"
            ]
          },
          "metadata": {
            "needs_background": "light"
          }
        },
        {
          "output_type": "display_data",
          "data": {
            "image/png": "[encoded data removed]",
            "text/plain": [
              "<Figure size 648x432 with 1 Axes>"
            ]
          },
          "metadata": {
            "needs_background": "light"
          }
        },
        {
          "output_type": "display_data",
          "data": {
            "image/png": "[encoded data removed]",
            "text/plain": [
              "<Figure size 648x432 with 1 Axes>"
            ]
          },
          "metadata": {
            "needs_background": "light"
          }
        },
        {
          "output_type": "display_data",
          "data": {
            "image/png": "[encoded data removed]",
            "text/plain": [
              "<Figure size 648x432 with 1 Axes>"
            ]
          },
          "metadata": {
            "needs_background": "light"
          }
        }
      ]
    },
    {
      "cell_type": "code",
      "metadata": {
        "colab": {
          "base_uri": "https://localhost:8080/",
          "height": 1000
        },
        "id": "7eHZbG2EmM2H",
        "outputId": "3782dd15-ebab-40ff-cc42-71a2cd3ec172"
      },
      "source": [
        "for col in categorical_features:\n",
        "    fig = plt.figure(figsize=(9, 6))\n",
        "    ax = fig.gca()\n",
        "    df.boxplot(column = 'selling_price', by = col, ax = ax)\n",
        "    ax.set_title('Label by ' + col)\n",
        "    ax.set_ylabel(\"Selling Price\")\n",
        "plt.show()"
      ],
      "execution_count": 224,
      "outputs": [
        {
          "output_type": "stream",
          "name": "stderr",
          "text": [
            "/usr/local/lib/python3.7/dist-packages/numpy/core/_asarray.py:83: VisibleDeprecationWarning: Creating an ndarray from ragged nested sequences (which is a list-or-tuple of lists-or-tuples-or ndarrays with different lengths or shapes) is deprecated. If you meant to do this, you must specify 'dtype=object' when creating the ndarray\n",
            "  return array(a, dtype, copy=False, order=order)\n",
            "/usr/local/lib/python3.7/dist-packages/numpy/core/_asarray.py:83: VisibleDeprecationWarning: Creating an ndarray from ragged nested sequences (which is a list-or-tuple of lists-or-tuples-or ndarrays with different lengths or shapes) is deprecated. If you meant to do this, you must specify 'dtype=object' when creating the ndarray\n",
            "  return array(a, dtype, copy=False, order=order)\n",
            "/usr/local/lib/python3.7/dist-packages/numpy/core/_asarray.py:83: VisibleDeprecationWarning: Creating an ndarray from ragged nested sequences (which is a list-or-tuple of lists-or-tuples-or ndarrays with different lengths or shapes) is deprecated. If you meant to do this, you must specify 'dtype=object' when creating the ndarray\n",
            "  return array(a, dtype, copy=False, order=order)\n",
            "/usr/local/lib/python3.7/dist-packages/numpy/core/_asarray.py:83: VisibleDeprecationWarning: Creating an ndarray from ragged nested sequences (which is a list-or-tuple of lists-or-tuples-or ndarrays with different lengths or shapes) is deprecated. If you meant to do this, you must specify 'dtype=object' when creating the ndarray\n",
            "  return array(a, dtype, copy=False, order=order)\n",
            "/usr/local/lib/python3.7/dist-packages/numpy/core/_asarray.py:83: VisibleDeprecationWarning: Creating an ndarray from ragged nested sequences (which is a list-or-tuple of lists-or-tuples-or ndarrays with different lengths or shapes) is deprecated. If you meant to do this, you must specify 'dtype=object' when creating the ndarray\n",
            "  return array(a, dtype, copy=False, order=order)\n",
            "/usr/local/lib/python3.7/dist-packages/numpy/core/_asarray.py:83: VisibleDeprecationWarning: Creating an ndarray from ragged nested sequences (which is a list-or-tuple of lists-or-tuples-or ndarrays with different lengths or shapes) is deprecated. If you meant to do this, you must specify 'dtype=object' when creating the ndarray\n",
            "  return array(a, dtype, copy=False, order=order)\n"
          ]
        },
        {
          "output_type": "display_data",
          "data": {
            "image/png": "[encoded data removed]",
            "text/plain": [
              "<Figure size 648x432 with 1 Axes>"
            ]
          },
          "metadata": {
            "needs_background": "light"
          }
        },
        {
          "output_type": "display_data",
          "data": {
            "image/png": "[encoded data removed]",
            "text/plain": [
              "<Figure size 648x432 with 1 Axes>"
            ]
          },
          "metadata": {
            "needs_background": "light"
          }
        },
        {
          "output_type": "display_data",
          "data": {
            "image/png": "[encoded data removed]",
            "text/plain": [
              "<Figure size 648x432 with 1 Axes>"
            ]
          },
          "metadata": {
            "needs_background": "light"
          }
        },
        {
          "output_type": "display_data",
          "data": {
            "image/png": "[encoded data removed]",
            "text/plain": [
              "<Figure size 648x432 with 1 Axes>"
            ]
          },
          "metadata": {
            "needs_background": "light"
          }
        },
        {
          "output_type": "display_data",
          "data": {
            "image/png": "[encoded data removed]",
            "text/plain": [
              "<Figure size 648x432 with 1 Axes>"
            ]
          },
          "metadata": {
            "needs_background": "light"
          }
        },
        {
          "output_type": "display_data",
          "data": {
            "image/png": "[encoded data removed]",
            "text/plain": [
              "<Figure size 648x432 with 1 Axes>"
            ]
          },
          "metadata": {
            "needs_background": "light"
          }
        }
      ]
    },
    {
      "cell_type": "code",
      "metadata": {
        "colab": {
          "base_uri": "https://localhost:8080/",
          "height": 378
        },
        "id": "x3gDiM96mM4e",
        "outputId": "4c58a10c-2565-4efe-9cf7-54b5606503de"
      },
      "source": [
        "plt.figure(figsize=(20, 6))\n",
        "\n",
        "df_autox = pd.DataFrame(df.groupby(['company'])['selling_price'].mean().sort_values(ascending = False))\n",
        "df_autox.plot.bar()\n",
        "plt.title('Car Company Name vs Average Price')\n",
        "plt.show()"
      ],
      "execution_count": 225,
      "outputs": [
        {
          "output_type": "display_data",
          "data": {
            "text/plain": [
              "<Figure size 1440x432 with 0 Axes>"
            ]
          },
          "metadata": {}
        },
        {
          "output_type": "display_data",
          "data": {
            "image/png": "[encoded data removed]",
            "text/plain": [
              "<Figure size 432x288 with 1 Axes>"
            ]
          },
          "metadata": {
            "needs_background": "light"
          }
        }
      ]
    },
    {
      "cell_type": "code",
      "metadata": {
        "id": "uzfa66RK5JsW"
      },
      "source": [
        "df_copy= df.copy()"
      ],
      "execution_count": 226,
      "outputs": []
    },
    {
      "cell_type": "code",
      "metadata": {
        "id": "xUwg0TRzp7dU"
      },
      "source": [
        "from sklearn.preprocessing import OrdinalEncoder\n",
        "ordinal_encoder = OrdinalEncoder()\n",
        "df_copy[categorical_features]=ordinal_encoder.fit_transform(df_copy[categorical_features])"
      ],
      "execution_count": 227,
      "outputs": []
    },
    {
      "cell_type": "code",
      "metadata": {
        "colab": {
          "base_uri": "https://localhost:8080/"
        },
        "id": "WuSVBKJJ183A",
        "outputId": "49b04e8c-4204-4361-b269-8bf98c739093"
      },
      "source": [
        "features=['year','km_driven','fuel','seller_type','transmission','owner','company']\n",
        "features\n",
        " "
      ],
      "execution_count": 228,
      "outputs": [
        {
          "output_type": "execute_result",
          "data": {
            "text/plain": [
              "['year',\n",
              " 'km_driven',\n",
              " 'fuel',\n",
              " 'seller_type',\n",
              " 'transmission',\n",
              " 'owner',\n",
              " 'company']"
            ]
          },
          "metadata": {},
          "execution_count": 228
        }
      ]
    },
    {
      "cell_type": "code",
      "metadata": {
        "id": "MVfk4vp218-J"
      },
      "source": [
        "from scipy.stats import zscore\n",
        "X= df_copy[features].apply(zscore)"
      ],
      "execution_count": 229,
      "outputs": []
    },
    {
      "cell_type": "code",
      "metadata": {
        "id": "XBZqEMhx19Xb"
      },
      "source": [
        "y= np.log10(df_copy['selling_price'])"
      ],
      "execution_count": 232,
      "outputs": []
    },
    {
      "cell_type": "code",
      "metadata": {
        "id": "ru6McLsO70mS"
      },
      "source": [
        "from sklearn.model_selection import train_test_split\n",
        "X_train,X_test,y_train,y_test = train_test_split(X,y,test_size=0.2,random_state=0)"
      ],
      "execution_count": 236,
      "outputs": []
    },
    {
      "cell_type": "code",
      "metadata": {
        "colab": {
          "base_uri": "https://localhost:8080/"
        },
        "id": "RcRCdNiP19gT",
        "outputId": "cf7a7212-df3f-4103-878b-0696891755ca"
      },
      "source": [
        "X_train.shape,X_test.shape"
      ],
      "execution_count": 248,
      "outputs": [
        {
          "output_type": "execute_result",
          "data": {
            "text/plain": [
              "((2861, 7), (716, 7))"
            ]
          },
          "metadata": {},
          "execution_count": 248
        }
      ]
    },
    {
      "cell_type": "code",
      "metadata": {
        "id": "lK6rPOSb9ZCO"
      },
      "source": [
        "from sklearn.linear_model import LinearRegression\n",
        "Regressor = LinearRegression()\n",
        "reg = Regressor.fit(X_train,y_train)"
      ],
      "execution_count": 251,
      "outputs": []
    },
    {
      "cell_type": "code",
      "metadata": {
        "colab": {
          "base_uri": "https://localhost:8080/"
        },
        "id": "WQNUhAY99ZD9",
        "outputId": "2f6db2a9-d6ee-49bb-cfae-08328edec24c"
      },
      "source": [
        "reg.score(X_train,y_train)"
      ],
      "execution_count": 253,
      "outputs": [
        {
          "output_type": "execute_result",
          "data": {
            "text/plain": [
              "0.6566698904104546"
            ]
          },
          "metadata": {},
          "execution_count": 253
        }
      ]
    },
    {
      "cell_type": "code",
      "metadata": {
        "colab": {
          "base_uri": "https://localhost:8080/"
        },
        "id": "yrct7IFh-fUc",
        "outputId": "f77e85a5-e2cd-4f7b-f552-83603e4df2fd"
      },
      "source": [
        "reg.coef_"
      ],
      "execution_count": 254,
      "outputs": [
        {
          "output_type": "execute_result",
          "data": {
            "text/plain": [
              "array([ 0.21404329, -0.00672047, -0.10632742, -0.02716921, -0.09697801,\n",
              "       -0.01363648, -0.008818  ])"
            ]
          },
          "metadata": {},
          "execution_count": 254
        }
      ]
    },
    {
      "cell_type": "code",
      "metadata": {
        "colab": {
          "base_uri": "https://localhost:8080/"
        },
        "id": "QH2yXQMn-62w",
        "outputId": "9b383d8f-042a-4c5a-d4a9-b8f9541c2649"
      },
      "source": [
        "len(reg.coef_)"
      ],
      "execution_count": 255,
      "outputs": [
        {
          "output_type": "execute_result",
          "data": {
            "text/plain": [
              "7"
            ]
          },
          "metadata": {},
          "execution_count": 255
        }
      ]
    },
    {
      "cell_type": "code",
      "metadata": {
        "colab": {
          "base_uri": "https://localhost:8080/"
        },
        "id": "Bn6_M_3U_rk8",
        "outputId": "bd607240-2cba-4a91-a314-f69df7acf20a"
      },
      "source": [
        " reg.intercept_"
      ],
      "execution_count": 262,
      "outputs": [
        {
          "output_type": "execute_result",
          "data": {
            "text/plain": [
              "5.528105359708131"
            ]
          },
          "metadata": {},
          "execution_count": 262
        }
      ]
    },
    {
      "cell_type": "code",
      "metadata": {
        "colab": {
          "base_uri": "https://localhost:8080/"
        },
        "id": "Tz301f_fBKAf",
        "outputId": "438450fa-089c-43d8-f79f-ad76835d3159"
      },
      "source": [
        "y_pred = reg.predict(X_test)\n",
        "y_pred"
      ],
      "execution_count": 264,
      "outputs": [
        {
          "output_type": "execute_result",
          "data": {
            "text/plain": [
              "array([5.18607461, 5.48375198, 5.87889198, 5.52986334, 5.63339341,\n",
              "       5.67729891, 5.44248301, 5.37006681, 5.76110019, 4.89424263,\n",
              "       5.8164482 , 5.55764726, 5.59211834, 5.36934046, 5.18696035,\n",
              "       5.49778609, 6.00090101, 5.16734372, 5.80413256, 4.92486318,\n",
              "       5.63868679, 5.25346257, 5.79873562, 5.62687215, 5.65955383,\n",
              "       5.52986639, 5.25030035, 5.32923142, 5.54962551, 5.16734372,\n",
              "       5.6958311 , 5.14118026, 5.90782333, 6.16731651, 5.60850515,\n",
              "       5.59298361, 5.96563387, 5.32624179, 5.33129134, 5.57124587,\n",
              "       5.6198863 , 5.77799756, 5.77722197, 5.24752954, 5.83603907,\n",
              "       5.56368823, 5.54918025, 5.21549023, 5.15171732, 5.22690283,\n",
              "       5.78413582, 5.86826173, 6.06767739, 5.79270713, 5.84821431,\n",
              "       6.17173698, 5.43695387, 5.32042686, 5.23135807, 6.29351003,\n",
              "       5.80700373, 5.43471341, 5.47695588, 5.4289759 , 5.81303888,\n",
              "       5.0689858 , 5.37357538, 5.929258  , 5.20098395, 5.27172513,\n",
              "       5.14488694, 5.67219041, 5.22468195, 5.47443444, 5.543888  ,\n",
              "       5.64642311, 5.85278158, 5.64844569, 5.50709319, 5.71704386,\n",
              "       5.23705963, 5.63444166, 5.44446672, 5.60245378, 5.6542796 ,\n",
              "       5.78710575, 5.48037457, 4.76914638, 5.28860972, 5.49641749,\n",
              "       5.58657908, 5.65105496, 5.36021184, 5.48233933, 5.36512556,\n",
              "       5.12626049, 5.37588479, 5.63245428, 5.52547052, 5.70428256,\n",
              "       4.755283  , 6.33588156, 4.96515625, 5.80634091, 5.67485076,\n",
              "       5.65906631, 5.6900084 , 4.93532281, 5.52473126, 5.8267836 ,\n",
              "       5.47093283, 5.61862862, 5.44386229, 5.37088754, 6.11485407,\n",
              "       5.01176091, 5.69300579, 5.64272302, 5.7063078 , 5.75922295,\n",
              "       6.01217868, 5.10489353, 5.69625489, 5.70140429, 5.49000703,\n",
              "       5.1290858 , 5.47162982, 5.31053827, 5.57861123, 5.14046957,\n",
              "       5.75835231, 5.30912561, 5.76341482, 5.65303866, 5.90429169,\n",
              "       5.6615819 , 5.6941767 , 5.61739115, 5.65588104, 4.96374359,\n",
              "       5.61377949, 5.24683669, 5.68523283, 6.00413952, 6.06343944,\n",
              "       5.61756919, 5.5592383 , 5.78063472, 5.41190389, 5.57247167,\n",
              "       5.51194657, 5.68776627, 5.68806149, 5.75835231, 5.14055136,\n",
              "       5.93295273, 5.46397264, 5.817366  , 5.35890054, 5.84970439,\n",
              "       5.03632106, 5.23051526, 5.62437299, 5.86054105, 5.66979057,\n",
              "       5.263364  , 5.82737575, 5.90374967, 5.50587487, 5.25374511,\n",
              "       5.65291314, 5.35623954, 5.65388027, 5.63782561, 5.51671568,\n",
              "       5.68221263, 5.04274762, 5.87642663, 5.75599158, 5.64430412,\n",
              "       4.98849745, 5.50076626, 5.61077202, 5.59070569, 5.73275684,\n",
              "       5.61259843, 5.66504959, 5.70140429, 5.46232315, 5.85910936,\n",
              "       5.643174  , 5.46228101, 5.48742489, 6.02989385, 4.991413  ,\n",
              "       5.39275923, 5.69575367, 5.55168065, 5.54405231, 5.7421381 ,\n",
              "       5.72494226, 5.42623412, 5.36955231, 5.25508643, 5.1836731 ,\n",
              "       5.13767309, 5.63754785, 5.28872107, 5.52625092, 5.46218084,\n",
              "       5.68176502, 5.56317057, 5.48400318, 5.66700023, 5.29513098,\n",
              "       5.63531751, 5.58649829, 5.64868336, 5.593531  , 5.63517306,\n",
              "       5.72904716, 5.26456817, 5.08156178, 4.90929756, 5.90845222,\n",
              "       5.71389755, 5.74540081, 5.32705338, 5.65252058, 5.85829546,\n",
              "       5.50814872, 5.44872175, 5.74172041, 5.44286745, 5.08579975,\n",
              "       5.14830039, 5.54639316, 4.6233897 , 5.42183184, 5.63482308,\n",
              "       5.53012512, 5.75807392, 5.77394165, 5.6915157 , 4.98991011,\n",
              "       5.68360436, 5.1417997 , 5.34745803, 5.47017354, 5.38803001,\n",
              "       5.68004679, 5.00482378, 5.45371801, 5.62914935, 5.7500122 ,\n",
              "       5.61138743, 5.73840747, 5.75055966, 5.80587633, 5.69531957,\n",
              "       5.40639453, 6.0627938 , 5.97849183, 5.75316627, 5.60287758,\n",
              "       6.00355647, 5.58162533, 5.69550105, 5.99642299, 5.45411289,\n",
              "       5.57652282, 5.98333746, 5.86328894, 5.44335366, 5.69064506,\n",
              "       5.48576906, 5.56515101, 5.64553789, 5.33189577, 5.72021566,\n",
              "       5.49261703, 5.21266492, 5.85457126, 5.02994705, 5.76321918,\n",
              "       5.11761689, 5.52041151, 5.14508177, 5.70325983, 4.94097344,\n",
              "       5.27018888, 5.69634864, 5.33773518, 5.93651977, 5.41032125,\n",
              "       5.91920395, 5.12021359, 5.83595216, 5.67893864, 5.80218038,\n",
              "       5.61113836, 5.44892685, 5.59206538, 5.66597473, 5.72906089,\n",
              "       5.45740462, 5.49141969, 5.12329056, 5.94805592, 5.56594848,\n",
              "       5.30967373, 5.72615815, 5.72862764, 4.96374359, 5.86098257,\n",
              "       5.50940651, 5.98263465, 5.04167209, 5.70800298, 5.62618887,\n",
              "       5.16372825, 5.25229178, 5.97447579, 6.01337803, 5.64592188,\n",
              "       5.61350642, 5.49141969, 5.59937041, 5.93220789, 5.75939768,\n",
              "       5.21636088, 5.55778853, 5.49723462, 5.81561006, 5.71992576,\n",
              "       5.87920515, 4.75288149, 4.61209151, 5.28918077, 5.57861428,\n",
              "       5.59070569, 5.84891855, 5.53517032, 5.72162831, 5.58021267,\n",
              "       5.93263986, 5.85645795, 5.95866029, 5.65303866, 5.6532269 ,\n",
              "       5.53120162, 5.63179678, 5.79087913, 5.58241854, 5.79531449,\n",
              "       5.68999169, 5.66112578, 5.79270713, 5.09845915, 5.11337892,\n",
              "       5.13191111, 5.25877628, 5.84129644, 5.65254505, 5.51070237,\n",
              "       5.79794241, 5.38365775, 5.8028867 , 5.85669024, 4.8574812 ,\n",
              "       5.50125378, 5.85619316, 5.73966526, 5.28312006, 5.59910757,\n",
              "       5.75411435, 5.31760155, 5.44787415, 5.56658055, 5.60209382,\n",
              "       5.30135265, 5.55527613, 5.53929345, 5.56741799, 5.48718172,\n",
              "       5.66131568, 5.50979083, 5.29956372, 5.7335951 , 5.54008364,\n",
              "       5.79275637, 5.98587002, 5.63339341, 5.11679234, 5.00702964,\n",
              "       5.8141974 , 5.53410131, 4.58711548, 5.47872691, 5.6477964 ,\n",
              "       5.41056117, 4.9645368 , 5.44566143, 5.81490373, 5.43546379,\n",
              "       5.75041839, 5.88311622, 5.62449703, 5.28666518, 5.51415647,\n",
              "       6.04967284, 5.90739618, 6.02838169, 5.13560371, 5.61293031,\n",
              "       5.6127132 , 5.64246767, 5.72780192, 5.64105502, 5.77275877,\n",
              "       5.77799756, 5.07441772, 5.63204885, 5.3346877 , 5.69366459,\n",
              "       4.95809297, 5.90782333, 5.18456864, 5.80756283, 5.63545878,\n",
              "       5.55971636, 5.2152077 , 5.5922297 , 5.69088345, 5.35383531,\n",
              "       6.26459229, 5.46802704, 5.79030461, 4.79079609, 5.87710174,\n",
              "       5.60122979, 5.55407133, 6.16590385, 6.06245731, 5.45090457,\n",
              "       5.52340449, 5.64501045, 5.77480295, 5.86737204, 5.85308943,\n",
              "       5.62922678, 4.72346586, 5.10914095, 5.47358957, 5.65868929,\n",
              "       5.52165299, 5.69634864, 5.58437931, 5.16796622, 5.65171289,\n",
              "       5.79786498, 6.01199905, 5.69634864, 5.5461449 , 5.58162533,\n",
              "       5.47684357, 5.50210829, 5.31053827, 5.70425951, 5.52147094,\n",
              "       6.01205295, 5.32836078, 5.19584498, 5.65847743, 5.8625611 ,\n",
              "       5.40091449, 5.60047606, 5.27445608, 5.42642291, 5.31335424,\n",
              "       5.70517767, 5.7967254 , 5.1227255 , 5.63780591, 4.96233094,\n",
              "       5.63681705, 5.02414918, 5.618547  , 5.63763473, 5.41055507,\n",
              "       5.31760155, 5.55123381, 5.60568929, 5.4715862 , 5.67250274,\n",
              "       5.41264024, 5.51415647, 5.32819982, 5.2430694 , 5.56450579,\n",
              "       5.56435093, 5.1331016 , 5.86413653, 5.56630157, 5.12123236,\n",
              "       5.43147759, 5.19130742, 5.47571274, 5.36160763, 5.16011981,\n",
              "       5.67588625, 5.57761204, 5.39975788, 5.24611688, 5.70205277,\n",
              "       5.58551965, 5.29502017, 6.27091111, 5.56317057, 5.87131802,\n",
              "       5.48467223, 5.71031075, 5.65029078, 5.44464278, 5.14813454,\n",
              "       5.7951171 , 5.5592383 , 4.72126305, 6.19975644, 4.90491833,\n",
              "       5.26301425, 4.67602233, 5.56539401, 5.85111705, 5.62421609,\n",
              "       5.88058717, 5.77909067, 5.5611685 , 5.3560452 , 5.73334572,\n",
              "       5.70227493, 5.38494612, 4.64029012, 5.84446136, 5.63586898,\n",
              "       5.63983115, 5.59345357, 5.46122692, 5.74618042, 5.10490299,\n",
              "       5.59089447, 5.74726303, 5.25523519, 5.55910277, 5.4367595 ,\n",
              "       5.81637077, 5.11652097, 5.43191867, 5.64406911, 5.45689872,\n",
              "       5.49000703, 5.05737897, 5.46122692, 5.42579673, 5.65520462,\n",
              "       5.50330904, 4.96542246, 6.16731651, 5.7340412 , 5.60362628,\n",
              "       5.32553547, 5.11848753, 5.24763209, 5.75604454, 5.69550105,\n",
              "       5.71876222, 5.984945  , 5.67389919, 5.41900653, 5.3817242 ,\n",
              "       5.51415647, 5.48876621, 5.05737897, 5.20206665, 5.73333331,\n",
              "       6.03721843, 5.93440079, 5.06020428, 5.85445798, 5.54970294,\n",
              "       5.54686056, 5.68144575, 5.62575019, 5.6365753 , 5.243369  ,\n",
              "       5.29936895, 5.06474783, 5.5592383 , 5.80218038, 5.45328965,\n",
              "       5.63347084, 5.62545949, 5.73557605, 5.56793553, 5.62263418,\n",
              "       5.65138889, 5.70517767, 5.44921618, 5.47534598, 5.16514091,\n",
              "       5.22342415, 5.57845637, 5.5829636 , 5.5049268 , 5.61549038,\n",
              "       5.41238257, 5.40945237, 5.76398934, 5.63327596, 5.1843555 ,\n",
              "       6.02453174, 5.30153534, 5.60195935, 6.00592363, 5.55590503,\n",
              "       5.6198863 , 5.23797786, 5.42400959, 5.89157443, 5.66615264,\n",
              "       6.20907317, 5.5265504 , 5.52712156, 5.61774604, 5.7538726 ,\n",
              "       5.64259003, 5.23834757, 4.98086313, 5.67052514, 4.76638555,\n",
              "       5.2037789 , 5.45976351, 5.43824505, 4.94673541, 5.50115244,\n",
              "       5.09637074, 4.95016515, 5.53339498, 5.70717171, 5.74197989,\n",
              "       5.49498259, 5.60695221, 4.8098703 , 5.8101143 , 5.09142057,\n",
              "       5.60814105, 5.6951003 , 5.08136881, 5.60531573, 5.26361063,\n",
              "       5.51487225, 5.79270713, 5.93777669, 5.40513674, 5.6958311 ,\n",
              "       5.85111705, 5.64406911, 4.85739431, 5.64169034, 5.48344226,\n",
              "       6.07267856, 6.02400744, 5.62553692, 5.29860966, 5.49229033,\n",
              "       4.88383738, 5.70390084, 5.9668129 , 5.14832097, 5.01355091,\n",
              "       5.20190569, 5.53474652, 5.18614016, 5.05094124, 4.92480686,\n",
              "       5.54381057, 5.55554234, 5.32174577, 5.1788307 , 5.21588197,\n",
              "       5.67929516, 5.46380714, 5.95213872, 5.35586252, 5.91674611,\n",
              "       5.60981992, 5.21690289, 5.44369069, 5.51795914, 5.74987303,\n",
              "       6.19826635, 5.18595639, 5.54318167, 5.50525057, 5.17660982,\n",
              "       5.84687908, 5.73530984, 5.26048518, 5.65503425, 5.74337631,\n",
              "       5.39846671, 5.22994542, 5.76188395, 5.56175803, 5.55271703,\n",
              "       5.70086227])"
            ]
          },
          "metadata": {},
          "execution_count": 264
        }
      ]
    },
    {
      "cell_type": "code",
      "metadata": {
        "colab": {
          "base_uri": "https://localhost:8080/"
        },
        "id": "t9yktO97BqTS",
        "outputId": "8a9f7fc6-2c1a-4e7f-e014-458e0ee20a9b"
      },
      "source": [
        "from sklearn.metrics import mean_squared_error\n",
        "MSE = mean_squared_error(10**(y_test), 10**(y_pred))\n",
        "print('MSE:', MSE)\n",
        "\n",
        "RMSE = np.sqrt(MSE)\n",
        "print('RMSE:',RMSE)"
      ],
      "execution_count": 275,
      "outputs": [
        {
          "output_type": "stream",
          "name": "stdout",
          "text": [
            "MSE: 99149729226.38828\n",
            "RMSE: 314880.49991447275\n"
          ]
        }
      ]
    },
    {
      "cell_type": "code",
      "metadata": {
        "id": "PuieMgyyFCLG"
      },
      "source": [
        "1-(1-r2_score(10**(y_test), 10**(y_pred)))*((X_test.shape[0]-1)/(X_test.shape[0]-X_test.shape[1]-1)))"
      ],
      "execution_count": null,
      "outputs": []
    },
    {
      "cell_type": "code",
      "metadata": {
        "colab": {
          "base_uri": "https://localhost:8080/"
        },
        "id": "vhLSKyj2EE5R",
        "outputId": "72595c63-fdba-4cab-8a6a-c483da089ac2"
      },
      "source": [
        "from sklearn.metrics import r2_score\n",
        "r2 = r2_score(10**(y_test),10**(y_pred))\n",
        "print('R2:', r2)\n",
        "\n",
        "print('adjusted R2',1-(1-r2_score(10**(y_test), 10**(y_pred)))*((X_test.shape[0]-1)/(X_test.shape[0]-X_test.shape[1]-1)))"
      ],
      "execution_count": 277,
      "outputs": [
        {
          "output_type": "stream",
          "name": "stdout",
          "text": [
            "R2: 0.5160830468704913\n",
            "adjusted R2 0.5112985572209058\n"
          ]
        }
      ]
    },
    {
      "cell_type": "code",
      "metadata": {
        "colab": {
          "base_uri": "https://localhost:8080/",
          "height": 331
        },
        "id": "SvJdk_tqGIj8",
        "outputId": "6bc68f12-2c7c-4ba8-b787-76e6fd35908a"
      },
      "source": [
        "plt.figure(figsize=(8,5))\n",
        "plt.plot(10**(y_pred))\n",
        "plt.plot(np.array(10**(y_test)))\n",
        "plt.legend([\"Predicted\",\"Actual\"])\n",
        "plt.show()"
      ],
      "execution_count": 278,
      "outputs": [
        {
          "output_type": "display_data",
          "data": {
            "image/png": "[encoded data removed]",
            "text/plain": [
              "<Figure size 576x360 with 1 Axes>"
            ]
          },
          "metadata": {
            "needs_background": "light"
          }
        }
      ]
    },
    {
      "cell_type": "code",
      "metadata": {
        "colab": {
          "base_uri": "https://localhost:8080/"
        },
        "id": "9DvsNiHxHNYI",
        "outputId": "1bffe752-d552-436a-949f-602850aee028"
      },
      "source": [
        "from sklearn.linear_model import Lasso\n",
        "lasso = Lasso(alpha=0.0001,max_iter=3000)\n",
        "lasso.fit(X_train,y_train)"
      ],
      "execution_count": 280,
      "outputs": [
        {
          "output_type": "execute_result",
          "data": {
            "text/plain": [
              "Lasso(alpha=0.0001, copy_X=True, fit_intercept=True, max_iter=3000,\n",
              "      normalize=False, positive=False, precompute=False, random_state=None,\n",
              "      selection='cyclic', tol=0.0001, warm_start=False)"
            ]
          },
          "metadata": {},
          "execution_count": 280
        }
      ]
    },
    {
      "cell_type": "code",
      "metadata": {
        "colab": {
          "base_uri": "https://localhost:8080/"
        },
        "id": "3VSFzrmLKDHz",
        "outputId": "1f7bb16a-b6a8-4351-d296-d2c7c8e003e5"
      },
      "source": [
        "lasso.score(X_train, y_train)"
      ],
      "execution_count": 281,
      "outputs": [
        {
          "output_type": "execute_result",
          "data": {
            "text/plain": [
              "0.65666948088305"
            ]
          },
          "metadata": {},
          "execution_count": 281
        }
      ]
    },
    {
      "cell_type": "code",
      "metadata": {
        "colab": {
          "base_uri": "https://localhost:8080/"
        },
        "id": "x-rcdvQwKYEU",
        "outputId": "e1fceb40-ec09-4a93-811f-dd7563a90338"
      },
      "source": [
        "lasso.coef_"
      ],
      "execution_count": 283,
      "outputs": [
        {
          "output_type": "execute_result",
          "data": {
            "text/plain": [
              "array([ 0.21405128, -0.00660954, -0.10618137, -0.0271158 , -0.09690816,\n",
              "       -0.01357933, -0.00872512])"
            ]
          },
          "metadata": {},
          "execution_count": 283
        }
      ]
    },
    {
      "cell_type": "code",
      "metadata": {
        "colab": {
          "base_uri": "https://localhost:8080/"
        },
        "id": "bBlTsXx6KdDD",
        "outputId": "3a0a7c6b-00d2-45ac-eeea-4811ab567d06"
      },
      "source": [
        "lasso.intercept_"
      ],
      "execution_count": 284,
      "outputs": [
        {
          "output_type": "execute_result",
          "data": {
            "text/plain": [
              "5.528102157947121"
            ]
          },
          "metadata": {},
          "execution_count": 284
        }
      ]
    },
    {
      "cell_type": "code",
      "metadata": {
        "id": "YUlSE98XKghf"
      },
      "source": [
        ""
      ],
      "execution_count": null,
      "outputs": []
    }
  ]
}